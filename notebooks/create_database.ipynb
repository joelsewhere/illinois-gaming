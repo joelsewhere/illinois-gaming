{
 "cells": [
  {
   "cell_type": "markdown",
   "metadata": {},
   "source": [
    "# Notebook Purpose\n",
    "\n",
    "This notebook serves as documented walkthrough for the creation of the `illinois-gambling` postgresql database.\n",
    "\n",
    "### Data Sources\n",
    "\n",
    "This database contains data from the Illinois Gaming Board's monthly reports for both [Video Gambling](https://www.igb.illinois.gov/VideoReports.aspx) and [Casino Gambling](https://www.igb.illinois.gov/CasinoReports.aspx) as well as demographic data for each Illinois municipality from the 5 year American Community Survey.\n",
    "\n",
    "<center><img src=\"../static/schema.png\" width=\"1000\"></center>"
   ]
  },
  {
   "cell_type": "code",
   "execution_count": 1,
   "metadata": {
    "ExecuteTime": {
     "end_time": "2021-02-01T19:59:44.025259Z",
     "start_time": "2021-02-01T19:59:42.708164Z"
    }
   },
   "outputs": [],
   "source": [
    "import sys\n",
    "sys.path.append('..')\n",
    "import pandas as pd\n",
    "import os\n",
    "import numpy as np\n",
    "from geopy import geocoders  \n",
    "import matplotlib.pyplot as plt\n",
    "from io import BytesIO\n",
    "from geopy.geocoders import Nominatim\n",
    "import psycopg2\n",
    "from requests import get\n",
    "import zipfile\n",
    "import censusdata\n",
    "import json\n",
    "from geopy.distance import geodesic\n",
    "from sqlalchemy import create_engine\n",
    "from tqdm.notebook import tqdm\n",
    "geolocator = Nominatim(user_agent='Illinois Gambling')"
   ]
  },
  {
   "cell_type": "markdown",
   "metadata": {},
   "source": [
    "# Create Database"
   ]
  },
  {
   "cell_type": "markdown",
   "metadata": {
    "ExecuteTime": {
     "end_time": "2020-12-20T22:59:28.058648Z",
     "start_time": "2020-12-20T22:59:27.972977Z"
    },
    "run_control": {
     "marked": false
    }
   },
   "source": [
    "Connect to postgresql"
   ]
  },
  {
   "cell_type": "code",
   "execution_count": 2,
   "metadata": {
    "ExecuteTime": {
     "end_time": "2021-02-01T19:59:45.888329Z",
     "start_time": "2021-02-01T19:59:45.875940Z"
    },
    "run_control": {
     "marked": false
    }
   },
   "outputs": [],
   "source": [
    "conn = psycopg2.connect(dbname=\"postgres\")\n",
    "cursor = conn.cursor()"
   ]
  },
  {
   "cell_type": "markdown",
   "metadata": {
    "ExecuteTime": {
     "end_time": "2020-12-20T22:59:28.058648Z",
     "start_time": "2020-12-20T22:59:27.972977Z"
    },
    "run_control": {
     "marked": false
    }
   },
   "source": [
    "Set configurations "
   ]
  },
  {
   "cell_type": "code",
   "execution_count": 3,
   "metadata": {
    "ExecuteTime": {
     "end_time": "2021-02-01T19:59:46.658869Z",
     "start_time": "2021-02-01T19:59:46.656529Z"
    },
    "run_control": {
     "marked": false
    }
   },
   "outputs": [],
   "source": [
    "conn.autocommit = True \n",
    "conn.set_isolation_level(0)"
   ]
  },
  {
   "cell_type": "markdown",
   "metadata": {
    "ExecuteTime": {
     "end_time": "2020-12-20T22:59:28.058648Z",
     "start_time": "2020-12-20T22:59:27.972977Z"
    },
    "run_control": {
     "marked": false
    }
   },
   "source": [
    "If creating the database from scratch, uncomment the code below to drop the database if it exists and create an empty `illinois-gaming` database."
   ]
  },
  {
   "cell_type": "code",
   "execution_count": 4,
   "metadata": {
    "ExecuteTime": {
     "end_time": "2021-02-01T19:59:48.025591Z",
     "start_time": "2021-02-01T19:59:47.836231Z"
    },
    "run_control": {
     "marked": false
    }
   },
   "outputs": [],
   "source": [
    "# cursor.execute('DROP DATABASE IF EXISTS illinois_gambling;')\n",
    "# cursor.execute('CREATE DATABASE illinois_gambling;')\n",
    "# conn.close()"
   ]
  },
  {
   "cell_type": "markdown",
   "metadata": {
    "ExecuteTime": {
     "end_time": "2020-12-20T22:59:28.058648Z",
     "start_time": "2020-12-20T22:59:27.972977Z"
    },
    "run_control": {
     "marked": false
    }
   },
   "source": [
    "Now that the database is created, open a connection to the `illinois-gambling`  database"
   ]
  },
  {
   "cell_type": "code",
   "execution_count": 5,
   "metadata": {
    "ExecuteTime": {
     "end_time": "2021-02-01T19:59:49.286518Z",
     "start_time": "2021-02-01T19:59:49.251364Z"
    },
    "run_control": {
     "marked": false
    }
   },
   "outputs": [],
   "source": [
    "conn = psycopg2.connect(dbname=\"illinois_gambling\")\n",
    "user = conn.get_dsn_parameters()['user']\n",
    "port = conn.get_dsn_parameters()['port'] \n",
    "# Create sqlalchemy engine to streamline the sql process\n",
    "engine = create_engine(f'postgresql+psycopg2://{user}:@localhost:{port}/illinois_gambling')"
   ]
  },
  {
   "cell_type": "markdown",
   "metadata": {},
   "source": [
    "# Casino Table"
   ]
  },
  {
   "cell_type": "code",
   "execution_count": 6,
   "metadata": {
    "ExecuteTime": {
     "end_time": "2021-02-01T19:59:55.719470Z",
     "start_time": "2021-02-01T19:59:50.926602Z"
    }
   },
   "outputs": [
    {
     "data": {
      "application/vnd.jupyter.widget-view+json": {
       "model_id": "39770195373a4b6db894b3e757cd9bc1",
       "version_major": 2,
       "version_minor": 0
      },
      "text/plain": [
       "HBox(children=(FloatProgress(value=0.0, description='–––––––––––––––––––––––––––––––––––', layout=Layout(flex=…"
      ]
     },
     "metadata": {},
     "output_type": "display_data"
    },
    {
     "name": "stdout",
     "output_type": "stream",
     "text": [
      "\n"
     ]
    }
   ],
   "source": [
    "with tqdm(total = 3, desc = ''.rjust(35, '–'), ncols=800) as pbar:\n",
    "    pbar.desc = ' Reading scraped data...'.rjust(35, '–')\n",
    "    # Create import path for the casino gambling data\n",
    "    casino_path = os.path.join(os.pardir,'data', 'casino_gambling', 'casino_data.csv')\n",
    "    # Read in csv file\n",
    "    casino_table = pd.read_csv(casino_path)\n",
    "    # Change date column from string to datetime\n",
    "    casino_table['date'] = pd.to_datetime(casino_table.date)\n",
    "    pbar.update(1)\n",
    "    \n",
    "# =======================================================================\n",
    "    pbar.desc = ' Cleaning casino data...'.rjust(35, '–')\n",
    "    # Data Cleaning: \n",
    "    # The naming of casinos is somewhat inconsistent.\n",
    "    # Below, we map names that deviate from the majority\n",
    "    # so they are consistent across observations\n",
    "    CASINO_REFORMAT = {'Alton': 'ALTON - ARGOSY',\n",
    "                       'Argosy Casino Alton': 'ALTON - ARGOSY',\n",
    "                    'East Peoria': 'E. PEORIA - PAR-A-DICE', \n",
    "                       'Par-A-Dice Hotel Casino': 'E. PEORIA - PAR-A-DICE',\n",
    "                    'Rock Island': 'ROCK ISLAND - JUMERS', \n",
    "                       \"Jumer's Casino & Hotel\": 'ROCK ISLAND - JUMERS',\n",
    "                     'Joliet - Empress': 'JOLIET - Argosy Empress Casino', \n",
    "                     'Metropolis': 'METROPOLIS - HARRAHS',\n",
    "                    \"Joliet - Harrah's\": 'JOLIET - HARRAHS',\n",
    "                    \"Harrah's Joliet Casino & Hotel\": 'JOLIET - HARRAHS',\n",
    "                    'Aurora': 'AURORA - HOLLYWOOD', \n",
    "                    'Hollywood Casino Aurora': 'AURORA - HOLLYWOOD',\n",
    "                    'E  St  Louis': 'E. ST. LOUIS - CASINO QUEEN',\n",
    "                    'E St  Louis': 'E. ST. LOUIS - CASINO QUEEN',\n",
    "                    'DraftKings at Casino Queen': 'E. ST. LOUIS - CASINO QUEEN',\n",
    "                    'Elgin': 'ELGIN - GRAND VICTORIA',\n",
    "                    'Grand Victoria Casino': 'ELGIN - GRAND VICTORIA',\n",
    "                    'Joliet - Hollywood': 'JOLIET - HOLLYWOOD',\n",
    "                       'Hollywood Casino Joliet': 'JOLIET - HOLLYWOOD',\n",
    "                    'Des Plaines': 'DES PLAINES - RIVERS CASINO', \n",
    "                       'Rivers Casino': 'DES PLAINES - RIVERS CASINO',\n",
    "                    'METROPOLIS - HARRAHS*': 'METROPOLIS - HARRAHS',\n",
    "                      \"Harrah's Metropolis Casino\": 'METROPOLIS - HARRAHS'}\n",
    "\n",
    "    def casino_map(casino):\n",
    "        if casino in CASINO_REFORMAT:\n",
    "            return CASINO_REFORMAT[casino]\n",
    "        else:\n",
    "            return casino\n",
    "\n",
    "    casino_table['casino'] = casino_table.casino.apply(casino_map)\n",
    "\n",
    "    # Data Cleaning:\n",
    "    # To make the columns more informative, we seperate the \n",
    "    # name of the casino from the name of the municipality.\n",
    "    casino_table['municipality'] = casino_table.casino.apply(lambda x: x.split(' - ')[0])\n",
    "    \n",
    "#     def find_error(text):\n",
    "#         try:\n",
    "#             return text.split(' - ')[1]\n",
    "#         except:\n",
    "#             print(text)\n",
    "#             ValueError('Oops')\n",
    "            \n",
    "    casino_table.casino.apply(find_error)\n",
    "    # casino_table['casino'] = casino_table.casino.apply(lambda x: x.split(' - ')[1])\n",
    "    casino_table['municipality'] = casino_table.municipality.apply(lambda x: x.title().strip().replace('E.', 'East'))\n",
    "# =======================================================================\n",
    "    pbar.desc = ' Searching for geo data'.rjust(35, '–')\n",
    "    # The location of the casino is useful information\n",
    "    # for measuring the relationship between video gambling\n",
    "    # and casino performance. The addresses were searched manually \n",
    "    # Using a google search. While it would be valuable to have a \n",
    "    # dynamic way of fetching this information, it is unlikely that\n",
    "    # these data points will change. \n",
    "    casino_addresses = {'Alton': '1 Piasa St, Alton, IL 62002',\n",
    "    'East Peoria':'21 Blackjack Blvd, East Peoria, IL 61611',\n",
    "    'Rock Island':'777 Jumer Dr, Rock Island, IL 61201',\n",
    "    'Joliet': '777 Hollywood Blvd, Joliet, IL 60436',\n",
    "    'Aurora':'100 E Front St, Metropolis, IL 62960',\n",
    "    'East St. Louis': '200 S Front St, East St Louis, IL 62201',\n",
    "    'Elgin': '250 S Grove Ave, Elgin, IL 60120',\n",
    "    'Des Plaines':'3000 S River Rd, Des Plaines, IL 60018',\n",
    "    'Metropolis': '100 E Front St, Metropolis, IL 62960'}\n",
    "\n",
    "    casino_table['address'] = casino_table.municipality.map(casino_addresses)\n",
    "\n",
    "    # The two columns below are aggregates of other columns. Because these numbers are \n",
    "    # easily calculable from the existing data, they are dropped. \n",
    "    # casino_table.drop(['agr_per_square_foot', 'agr_per_admission'], axis = 1, inplace=True)\n",
    "\n",
    "    def coordinates_from_address(address):\n",
    "\n",
    "        location = geolocator.geocode(address)\n",
    "        if location:\n",
    "            return location.latitude, location.longitude\n",
    "\n",
    "    coordinates_from_address(casino_table.address[0])\n",
    "\n",
    "    casino_coordinates = {}\n",
    "    for address in casino_table.address.unique():\n",
    "        try:\n",
    "            latitude, longitude = coordinates_from_address(address)\n",
    "            casino_coordinates[address] = (latitude, longitude)\n",
    "        except:\n",
    "            continue\n",
    "    pbar.desc = ' Matching coordinates...'.rjust(35, '–')\n",
    "    casino_coordinates['777 Hollywood Blvd, Joliet, IL 60436'] = (41.479289, -88.145328)\n",
    "    casino_table['latitude'] = casino_table.address.apply(lambda x: casino_coordinates[x][0])\n",
    "    casino_table['longitude'] = casino_table.address.apply(lambda x: casino_coordinates[x][1])\n",
    "\n",
    "\n",
    "    casino_table.rename({'casino': 'name', 'agr': 'adjusted_gross_receipt',\n",
    "                        'casino_square_feet': 'square_feet'}, axis = 1, inplace=True)\n",
    "    pbar.update(1)\n",
    "# =======================================================================\n",
    "    pbar.desc = ' Inserting data into casino table...'.rjust(35, '–')\n",
    "    casino_table = casino_table[['address', 'name', 'date', 'municipality',\n",
    "                  'adjusted_gross_receipt', 'square_feet', 'admissions',\n",
    "                   'state_share', 'local_share','latitude', 'longitude']]\n",
    "\n",
    "    casino_table.to_sql('casino', engine, if_exists='append', index=True)\n",
    "    pbar.desc = ' Complete'.rjust(35, '–')\n",
    "    pbar.update(1)\n",
    "# ======================================================================="
   ]
  },
  {
   "cell_type": "markdown",
   "metadata": {},
   "source": [
    "# Video Gambling Table"
   ]
  },
  {
   "cell_type": "code",
   "execution_count": 7,
   "metadata": {
    "ExecuteTime": {
     "end_time": "2021-02-01T20:01:11.191200Z",
     "start_time": "2021-02-01T19:59:59.133545Z"
    }
   },
   "outputs": [
    {
     "data": {
      "application/vnd.jupyter.widget-view+json": {
       "model_id": "5529d2d6d51a43f0a1a34f9a855e27ce",
       "version_major": 2,
       "version_minor": 0
      },
      "text/plain": [
       "HBox(children=(FloatProgress(value=0.0, description='–––––––––––––––––––––––––––––––', layout=Layout(flex='2')…"
      ]
     },
     "metadata": {},
     "output_type": "display_data"
    },
    {
     "name": "stdout",
     "output_type": "stream",
     "text": [
      "\n"
     ]
    }
   ],
   "source": [
    "with tqdm(total=3, desc = ''.rjust(31, '–'), ncols=800) as pbar:\n",
    "    pbar.desc = ' Reading scraped data...'.rjust(31, '–')\n",
    "    data_path = os.path.join(os.pardir,'data', 'video_gambling')\n",
    "    file_path = [file for file in os.listdir(data_path) if file.endswith('.csv')][0]\n",
    "    video_gambling_path = os.path.join(data_path, file_path )\n",
    "    video_gambling_table = pd.read_csv(video_gambling_path)\n",
    "    pbar.update(1)\n",
    "    pbar.desc = ' Cleaning video gambling data...'.rjust(31)\n",
    "    video_gambling_table['date'] = pd.to_datetime(video_gambling_table.date, format='%B-%Y')\n",
    "    video_gambling_table = video_gambling_table.dropna()\n",
    "\n",
    "    video_gambling_table = video_gambling_table[['date','Establishment', 'License Number', 'Municipality', 'VGT Count',\n",
    "           'Amount Played', 'Amount Won', 'Net Wager', 'Funds In', 'Funds Out',\n",
    "           'Net Terminal Income', 'NTI Tax', 'State Share', 'Municipality Share'\n",
    "           ]]\n",
    "\n",
    "    column_edit = lambda x: x.lower().strip().replace(' ', '_').replace('-', '_')\n",
    "    video_gambling_table.columns = [column_edit(column) for column in video_gambling_table.columns]\n",
    "    video_gambling_table.rename({'vgt_count': 'terminal_count'}, axis = 1, inplace=True)\n",
    "    pbar.update(1)\n",
    "    pbar.desc = ' Inserting table into database...'.rjust(31, '–')\n",
    "    video_gambling_table.to_sql('video_gambling', engine, if_exists='append', index=True)\n",
    "    pbar.desc = ' Complete!'.rjust(31, '–')\n",
    "    pbar.update(1)"
   ]
  },
  {
   "cell_type": "markdown",
   "metadata": {},
   "source": [
    "# Municipality Table"
   ]
  },
  {
   "cell_type": "code",
   "execution_count": 11,
   "metadata": {
    "ExecuteTime": {
     "end_time": "2021-02-01T22:51:47.724368Z",
     "start_time": "2021-02-01T22:30:58.552554Z"
    }
   },
   "outputs": [
    {
     "data": {
      "application/vnd.jupyter.widget-view+json": {
       "model_id": "f1f2b75cb65a4d6682d4189c9f1b9d11",
       "version_major": 2,
       "version_minor": 0
      },
      "text/plain": [
       "HBox(children=(FloatProgress(value=0.0, description='                               ', layout=Layout(flex='2')…"
      ]
     },
     "metadata": {},
     "output_type": "display_data"
    },
    {
     "name": "stderr",
     "output_type": "stream",
     "text": [
      "/Users/joel/opt/anaconda3/lib/python3.7/site-packages/IPython/core/interactiveshell.py:3146: DtypeWarning: Columns (3,32,33,34,42) have mixed types.Specify dtype option on import or set low_memory=False.\n",
      "  interactivity=interactivity, compiler=compiler, result=result)\n",
      "/Users/joel/opt/anaconda3/lib/python3.7/site-packages/pandas/core/strings.py:2001: UserWarning: This pattern has match groups. To actually get the groups, use str.extract.\n",
      "  return func(self, *args, **kwargs)\n"
     ]
    },
    {
     "name": "stdout",
     "output_type": "stream",
     "text": [
      "\n"
     ]
    }
   ],
   "source": [
    "with tqdm(total=6, desc = ''.rjust(31), ncols=800) as pbar:\n",
    "    # ============================================================================\n",
    "    # Importing dataset for tracking whether or not a municipality has\n",
    "    # prohibited video gambling\n",
    "    prohibition = pd.read_csv('../data/MunicipalityList.csv')\n",
    "    prohibition.dropna(subset=['Name'],inplace=True)\n",
    "    # ============================================================================\n",
    "    # Request census geo id dataset\n",
    "    pbar.desc = ' Requesting Census Geo Ids'.rjust(39, '–')\n",
    "    response = get('https://www2.census.gov/programs-surveys/acs/summary_file/2018/data/5_year_by_state/Illinois_All_Geographies_Not_Tracts_Block_Groups.zip')\n",
    "    pbar.desc = ' Reading response Bytes'.rjust(39, '–')\n",
    "    translated = BytesIO(response.content)\n",
    "    pbar.desc = ' Unzipping census data'.rjust(39)\n",
    "    zip_file = zipfile.ZipFile(translated)\n",
    "    csv_raw = zip_file.open('g20185il.csv')\n",
    "    pbar.desc = ' Reading id file'.rjust(39, '–')\n",
    "    municipality_ids = pd.read_csv(csv_raw, header=None)\n",
    "    municipality_ids = municipality_ids[municipality_ids.iloc[:,2] == 160]\n",
    "    pbar.update(1)\n",
    "    # ============================================================================\n",
    "    # Collect ids for municipalities\n",
    "    pbar.desc = ' Filtering for municipalities'.rjust(39, '–')\n",
    "    census_ids = {}\n",
    "    counties = video_gambling_table[video_gambling_table.municipality.str.contains('county', case=False)].index\n",
    "    municipalities = video_gambling_table.loc[[x for x in video_gambling_table.index if x not in counties]]\n",
    "    towns_unique = list(municipalities.municipality.unique())\n",
    "    towns_unique += [town for town in casino_table.municipality.unique() if town not in towns_unique]\n",
    "    towns_unique += [town for town in prohibition.Name.unique() if town not in towns_unique]\n",
    "    # ============================================================================\n",
    "    # Collecting Census Data\n",
    "    pbar.desc = ' Matching Census ID to Municipality Name'.rjust(39, '–')\n",
    "    for town in towns_unique:\n",
    "        try:\n",
    "            search = municipality_ids[municipality_ids.iloc[:,49].str.contains(town, case=False)]\n",
    "            search  = search[~search.iloc[:,49].str.contains('CDP')]\n",
    "            id_ = search.iloc[:,48].values[0]\n",
    "            census_ids[town] = id_\n",
    "        except:\n",
    "            census_ids[town] = None\n",
    "    pbar.desc = ' Addressing alternate string formats'.rjust(39, '–')\n",
    "    error_cities = {'La Salle': 'lasalle',\n",
    "     'Lamoille': 'la moille',\n",
    "     'Windsor (Mercer)': 'windsor village' ,\n",
    "     'Windsor (Shelby)': 'windsor city',\n",
    "     'Leroy': 'le roy',\n",
    "     'Depue': 'de pue',\n",
    "     'Wilmington (Will)': 'wilmington city',\n",
    "     'Sainte Marie': 'ste. marie',\n",
    "     'Gulfport': 'Gulf port',\n",
    "     'Saint Elmo': 'St. Elmo',\n",
    "     'Whiteash': 'Whiteash',\n",
    "     'Wilmington (Greene)': 'wilmington village',\n",
    "     'Garden Prairie': 'Garden Prairie'}\n",
    "\n",
    "    for city in error_cities:\n",
    "        id_ = municipality_ids[municipality_ids.iloc[:,49].str.contains(error_cities[city], case=False)].iloc[:,48].values[0]\n",
    "        census_ids[city] = id_\n",
    "    pbar.desc = ' Finalizing municipal IDs'.rjust(39, '–')\n",
    "    municipal_table = pd.DataFrame()\n",
    "    municipal_table['name'] = towns_unique\n",
    "    municipal_table['id'] = municipal_table.name.map(census_ids)\n",
    "    municipal_table.dropna(subset=['id'], inplace=True)\n",
    "    pbar.update(1)\n",
    "    # ============================================================================\n",
    "    pbar.desc = ' Collecting coordinates'.rjust(39, '–')\n",
    "    def find_geo_data(municipality):\n",
    "\n",
    "        location = geolocator.geocode(f'{municipality}, Illinois')\n",
    "        if location:\n",
    "            return location.raw\n",
    "\n",
    "    town_geo = {}\n",
    "\n",
    "    for town in towns_unique:\n",
    "        town_geo[town] = find_geo_data(town)\n",
    "\n",
    "    def collect_coordinates(town):\n",
    "        return town_geo[town]['lat'], town_geo[town]['lon'], town_geo[town]['boundingbox']\n",
    "    \n",
    "    pbar.desc = ' Finalizing coordinates'.rjust(39, '–')\n",
    "    municipal_table['latitude'], municipal_table['longitude'], municipal_table['boundingbox'] = zip(*municipal_table.name.apply(collect_coordinates))\n",
    "    pbar.update(1)\n",
    "    # ============================================================================\n",
    "    pbar.desc = ' Collecting county data'.rjust(39, '–')\n",
    "    def county_info(row):\n",
    "        county_json = get(f'https://geo.fcc.gov/api/census/area?lat={row.latitude}&lon={row.longitude}&format=json').json()['results'][0]\n",
    "        county_fips = county_json['county_fips']\n",
    "        county_name = county_json['county_name']\n",
    "        return county_fips, county_name\n",
    "\n",
    "    municipal_table['county_fips'] = ''\n",
    "    municipal_table['county_name'] = ''\n",
    "    for idx, row in municipal_table.iterrows():\n",
    "        county_fips, county_name = county_info(row)\n",
    "        municipal_table.at[idx, 'county_fips'] = county_fips\n",
    "        municipal_table.at[idx, 'county_name'] = county_name\n",
    "    pbar.update(1)\n",
    "    # ============================================================================\n",
    "    pbar.desc = ' Identifying nearest casino'.rjust(39, '–')\n",
    "    closest_casinos = []\n",
    "    distance_from_casino = []\n",
    "    for idx, row in municipal_table.iterrows():\n",
    "        town_coor = (row.latitude, row.longitude)\n",
    "        distances = {}\n",
    "        for casino in casino_coordinates:\n",
    "            casino_coor = casino_coordinates[casino]\n",
    "            miles = geodesic(town_coor, casino_coor).miles\n",
    "            distances[casino] = miles\n",
    "            # ADD DISTANC INFO\n",
    "        sort = sorted(distances.items(), key=lambda x: x[1])[0][0]\n",
    "        closest_casinos.append(sort)\n",
    "\n",
    "    municipal_table['nearest_casino'] = closest_casinos\n",
    "    pbar.update(1)\n",
    "    # ============================================================================\n",
    "    pbar.desc = 'Inserting table into database'.rjust(39, '–')\n",
    "    municipal_table = municipal_table[['name', 'id', 'nearest_casino','latitude', 'longitude', 'boundingbox', 'county_fips', 'county_name']]\n",
    "    municipal_table.rename({'id': 'geo_id'}, axis=1, inplace=True)\n",
    "    municipal_table.to_sql('municipality', engine, if_exists='replace', index=False)\n",
    "    pbar.desc = ' Complete!'.rjust(39)\n",
    "    pbar.update(1)"
   ]
  },
  {
   "cell_type": "code",
   "execution_count": 12,
   "metadata": {
    "ExecuteTime": {
     "end_time": "2021-02-02T00:03:49.760513Z",
     "start_time": "2021-02-02T00:03:49.628618Z"
    }
   },
   "outputs": [],
   "source": [
    "munic = pd.read_sql('''select * from municipality;''', engine)\n",
    "census_ids = munic[['name', 'geo_id']].set_index('name').to_dict()['geo_id']\n",
    "\n"
   ]
  },
  {
   "cell_type": "code",
   "execution_count": 13,
   "metadata": {
    "ExecuteTime": {
     "end_time": "2021-02-02T00:03:59.110157Z",
     "start_time": "2021-02-02T00:03:59.087964Z"
    }
   },
   "outputs": [
    {
     "data": {
      "text/html": [
       "<div>\n",
       "<style scoped>\n",
       "    .dataframe tbody tr th:only-of-type {\n",
       "        vertical-align: middle;\n",
       "    }\n",
       "\n",
       "    .dataframe tbody tr th {\n",
       "        vertical-align: top;\n",
       "    }\n",
       "\n",
       "    .dataframe thead th {\n",
       "        text-align: right;\n",
       "    }\n",
       "</style>\n",
       "<table border=\"1\" class=\"dataframe\">\n",
       "  <thead>\n",
       "    <tr style=\"text-align: right;\">\n",
       "      <th></th>\n",
       "      <th>name</th>\n",
       "      <th>geo_id</th>\n",
       "      <th>nearest_casino</th>\n",
       "      <th>latitude</th>\n",
       "      <th>longitude</th>\n",
       "      <th>boundingbox</th>\n",
       "      <th>county_fips</th>\n",
       "      <th>county_name</th>\n",
       "    </tr>\n",
       "  </thead>\n",
       "  <tbody>\n",
       "    <tr>\n",
       "      <th>0</th>\n",
       "      <td>Hoopeston</td>\n",
       "      <td>16000US1736061</td>\n",
       "      <td>777 Hollywood Blvd, Joliet, IL 60436</td>\n",
       "      <td>40.4672587</td>\n",
       "      <td>-87.6683573</td>\n",
       "      <td>(40.437915,40.477669,-87.689353,-87.640314)</td>\n",
       "      <td>17183</td>\n",
       "      <td>Vermilion</td>\n",
       "    </tr>\n",
       "    <tr>\n",
       "      <th>1</th>\n",
       "      <td>Centralia</td>\n",
       "      <td>16000US1712164</td>\n",
       "      <td>200 S Front St, East St Louis, IL 62201</td>\n",
       "      <td>38.5250491</td>\n",
       "      <td>-89.1334037</td>\n",
       "      <td>(38.463629,38.548746,-89.175645,-89.063264)</td>\n",
       "      <td>17121</td>\n",
       "      <td>Marion</td>\n",
       "    </tr>\n",
       "    <tr>\n",
       "      <th>2</th>\n",
       "      <td>Carpentersville</td>\n",
       "      <td>16000US1711358</td>\n",
       "      <td>250 S Grove Ave, Elgin, IL 60120</td>\n",
       "      <td>42.1211364</td>\n",
       "      <td>-88.2578582</td>\n",
       "      <td>(42.102677,42.1487296,-88.3593718,-88.2413703)</td>\n",
       "      <td>17089</td>\n",
       "      <td>Kane</td>\n",
       "    </tr>\n",
       "    <tr>\n",
       "      <th>3</th>\n",
       "      <td>Flora</td>\n",
       "      <td>16000US1726454</td>\n",
       "      <td>200 S Front St, East St Louis, IL 62201</td>\n",
       "      <td>38.6689364</td>\n",
       "      <td>-88.4856042</td>\n",
       "      <td>(38.655188,38.685662,-88.508657,-88.440763)</td>\n",
       "      <td>17025</td>\n",
       "      <td>Clay</td>\n",
       "    </tr>\n",
       "    <tr>\n",
       "      <th>4</th>\n",
       "      <td>Staunton</td>\n",
       "      <td>16000US1772403</td>\n",
       "      <td>1 Piasa St, Alton, IL 62002</td>\n",
       "      <td>39.0122684</td>\n",
       "      <td>-89.7912063</td>\n",
       "      <td>(38.998353,39.029017,-89.82316,-89.746843)</td>\n",
       "      <td>17117</td>\n",
       "      <td>Macoupin</td>\n",
       "    </tr>\n",
       "    <tr>\n",
       "      <th>...</th>\n",
       "      <td>...</td>\n",
       "      <td>...</td>\n",
       "      <td>...</td>\n",
       "      <td>...</td>\n",
       "      <td>...</td>\n",
       "      <td>...</td>\n",
       "      <td>...</td>\n",
       "      <td>...</td>\n",
       "    </tr>\n",
       "    <tr>\n",
       "      <th>1294</th>\n",
       "      <td>Windsor</td>\n",
       "      <td>16000US1782309</td>\n",
       "      <td>777 Jumer Dr, Rock Island, IL 61201</td>\n",
       "      <td>41.2022584</td>\n",
       "      <td>-90.4423521</td>\n",
       "      <td>(41.194901,41.207064,-90.45109,-90.436603)</td>\n",
       "      <td>17131</td>\n",
       "      <td>Mercer</td>\n",
       "    </tr>\n",
       "    <tr>\n",
       "      <th>1295</th>\n",
       "      <td>Winfield</td>\n",
       "      <td>16000US1782400</td>\n",
       "      <td>250 S Grove Ave, Elgin, IL 60120</td>\n",
       "      <td>41.8616956</td>\n",
       "      <td>-88.1609031</td>\n",
       "      <td>(41.8540185,41.901662,-88.179496,-88.124587)</td>\n",
       "      <td>17043</td>\n",
       "      <td>DuPage</td>\n",
       "    </tr>\n",
       "    <tr>\n",
       "      <th>1296</th>\n",
       "      <td>Winnetka</td>\n",
       "      <td>16000US1782530</td>\n",
       "      <td>3000 S River Rd, Des Plaines, IL 60018</td>\n",
       "      <td>42.1080703</td>\n",
       "      <td>-87.7365286</td>\n",
       "      <td>(42.0891766,42.1283745,-87.7707407,-87.7107537)</td>\n",
       "      <td>17031</td>\n",
       "      <td>Cook</td>\n",
       "    </tr>\n",
       "    <tr>\n",
       "      <th>1297</th>\n",
       "      <td>Woodland</td>\n",
       "      <td>16000US1783102</td>\n",
       "      <td>777 Hollywood Blvd, Joliet, IL 60436</td>\n",
       "      <td>40.7144803</td>\n",
       "      <td>-87.7311426</td>\n",
       "      <td>(40.707172,40.728843,-87.739566,-87.725096)</td>\n",
       "      <td>17075</td>\n",
       "      <td>Iroquois</td>\n",
       "    </tr>\n",
       "    <tr>\n",
       "      <th>1298</th>\n",
       "      <td>Yale</td>\n",
       "      <td>16000US1783765</td>\n",
       "      <td>1 Piasa St, Alton, IL 62002</td>\n",
       "      <td>39.120447</td>\n",
       "      <td>-88.0246226064049</td>\n",
       "      <td>(39.11615,39.124618,-88.034676,-88.014654)</td>\n",
       "      <td>17079</td>\n",
       "      <td>Jasper</td>\n",
       "    </tr>\n",
       "  </tbody>\n",
       "</table>\n",
       "<p>1299 rows × 8 columns</p>\n",
       "</div>"
      ],
      "text/plain": [
       "                 name          geo_id  \\\n",
       "0           Hoopeston  16000US1736061   \n",
       "1           Centralia  16000US1712164   \n",
       "2     Carpentersville  16000US1711358   \n",
       "3               Flora  16000US1726454   \n",
       "4            Staunton  16000US1772403   \n",
       "...               ...             ...   \n",
       "1294          Windsor  16000US1782309   \n",
       "1295         Winfield  16000US1782400   \n",
       "1296         Winnetka  16000US1782530   \n",
       "1297         Woodland  16000US1783102   \n",
       "1298             Yale  16000US1783765   \n",
       "\n",
       "                               nearest_casino    latitude          longitude  \\\n",
       "0        777 Hollywood Blvd, Joliet, IL 60436  40.4672587        -87.6683573   \n",
       "1     200 S Front St, East St Louis, IL 62201  38.5250491        -89.1334037   \n",
       "2            250 S Grove Ave, Elgin, IL 60120  42.1211364        -88.2578582   \n",
       "3     200 S Front St, East St Louis, IL 62201  38.6689364        -88.4856042   \n",
       "4                 1 Piasa St, Alton, IL 62002  39.0122684        -89.7912063   \n",
       "...                                       ...         ...                ...   \n",
       "1294      777 Jumer Dr, Rock Island, IL 61201  41.2022584        -90.4423521   \n",
       "1295         250 S Grove Ave, Elgin, IL 60120  41.8616956        -88.1609031   \n",
       "1296   3000 S River Rd, Des Plaines, IL 60018  42.1080703        -87.7365286   \n",
       "1297     777 Hollywood Blvd, Joliet, IL 60436  40.7144803        -87.7311426   \n",
       "1298              1 Piasa St, Alton, IL 62002   39.120447  -88.0246226064049   \n",
       "\n",
       "                                          boundingbox county_fips county_name  \n",
       "0         (40.437915,40.477669,-87.689353,-87.640314)       17183   Vermilion  \n",
       "1         (38.463629,38.548746,-89.175645,-89.063264)       17121      Marion  \n",
       "2      (42.102677,42.1487296,-88.3593718,-88.2413703)       17089        Kane  \n",
       "3         (38.655188,38.685662,-88.508657,-88.440763)       17025        Clay  \n",
       "4          (38.998353,39.029017,-89.82316,-89.746843)       17117    Macoupin  \n",
       "...                                               ...         ...         ...  \n",
       "1294       (41.194901,41.207064,-90.45109,-90.436603)       17131      Mercer  \n",
       "1295     (41.8540185,41.901662,-88.179496,-88.124587)       17043      DuPage  \n",
       "1296  (42.0891766,42.1283745,-87.7707407,-87.7107537)       17031        Cook  \n",
       "1297      (40.707172,40.728843,-87.739566,-87.725096)       17075    Iroquois  \n",
       "1298       (39.11615,39.124618,-88.034676,-88.014654)       17079      Jasper  \n",
       "\n",
       "[1299 rows x 8 columns]"
      ]
     },
     "execution_count": 13,
     "metadata": {},
     "output_type": "execute_result"
    }
   ],
   "source": [
    "munic"
   ]
  },
  {
   "cell_type": "markdown",
   "metadata": {},
   "source": [
    "# Census Data"
   ]
  },
  {
   "cell_type": "code",
   "execution_count": 21,
   "metadata": {
    "ExecuteTime": {
     "end_time": "2021-02-02T00:05:52.562678Z",
     "start_time": "2021-02-02T00:05:52.556532Z"
    }
   },
   "outputs": [],
   "source": [
    "variables_path = os.path.join(os.pardir,'data', 'census_variables.json')\n",
    "with open(variables_path, 'r') as file:\n",
    "    variables = json.load(file)"
   ]
  },
  {
   "cell_type": "markdown",
   "metadata": {},
   "source": [
    "### Add variable lookup table"
   ]
  },
  {
   "cell_type": "code",
   "execution_count": 22,
   "metadata": {
    "ExecuteTime": {
     "end_time": "2021-02-02T00:05:54.514139Z",
     "start_time": "2021-02-02T00:05:54.440248Z"
    }
   },
   "outputs": [],
   "source": [
    "lookup = pd.DataFrame(variables, index=[0]).T.reset_index()\n",
    "lookup.columns = ['variable', 'description']\n",
    "lookup['variable'] = lookup.variable.apply(lambda x: x.upper())\n",
    "\n",
    "lookup.to_sql('demographics_lookup', engine, if_exists='replace')\n",
    "\n"
   ]
  },
  {
   "cell_type": "markdown",
   "metadata": {},
   "source": [
    "### Create Demographics Table"
   ]
  },
  {
   "cell_type": "code",
   "execution_count": 23,
   "metadata": {
    "ExecuteTime": {
     "end_time": "2021-02-02T02:23:28.052026Z",
     "start_time": "2021-02-02T00:06:05.234775Z"
    }
   },
   "outputs": [
    {
     "data": {
      "application/vnd.jupyter.widget-view+json": {
       "model_id": "8658a42492044220b661409fc2db4620",
       "version_major": 2,
       "version_minor": 0
      },
      "text/plain": [
       "HBox(children=(FloatProgress(value=0.0, description='2012', max=1298.0, style=ProgressStyle(description_width=…"
      ]
     },
     "metadata": {},
     "output_type": "display_data"
    },
    {
     "name": "stdout",
     "output_type": "stream",
     "text": [
      "\n"
     ]
    },
    {
     "data": {
      "application/vnd.jupyter.widget-view+json": {
       "model_id": "39c57513ee3d4175ad4dceac17aacab6",
       "version_major": 2,
       "version_minor": 0
      },
      "text/plain": [
       "HBox(children=(FloatProgress(value=0.0, description='2013', max=1298.0, style=ProgressStyle(description_width=…"
      ]
     },
     "metadata": {},
     "output_type": "display_data"
    },
    {
     "name": "stdout",
     "output_type": "stream",
     "text": [
      "\n"
     ]
    },
    {
     "data": {
      "application/vnd.jupyter.widget-view+json": {
       "model_id": "c8793a1abf614b68b9e5402538f58b24",
       "version_major": 2,
       "version_minor": 0
      },
      "text/plain": [
       "HBox(children=(FloatProgress(value=0.0, description='2014', max=1298.0, style=ProgressStyle(description_width=…"
      ]
     },
     "metadata": {},
     "output_type": "display_data"
    },
    {
     "name": "stdout",
     "output_type": "stream",
     "text": [
      "\n"
     ]
    },
    {
     "data": {
      "application/vnd.jupyter.widget-view+json": {
       "model_id": "53314cfcaafa4376b0dbfa077133f958",
       "version_major": 2,
       "version_minor": 0
      },
      "text/plain": [
       "HBox(children=(FloatProgress(value=0.0, description='2015', max=1298.0, style=ProgressStyle(description_width=…"
      ]
     },
     "metadata": {},
     "output_type": "display_data"
    },
    {
     "name": "stdout",
     "output_type": "stream",
     "text": [
      "\n"
     ]
    },
    {
     "data": {
      "application/vnd.jupyter.widget-view+json": {
       "model_id": "d3e62c508c924b42aebd621f90145b7a",
       "version_major": 2,
       "version_minor": 0
      },
      "text/plain": [
       "HBox(children=(FloatProgress(value=0.0, description='2016', max=1298.0, style=ProgressStyle(description_width=…"
      ]
     },
     "metadata": {},
     "output_type": "display_data"
    },
    {
     "name": "stdout",
     "output_type": "stream",
     "text": [
      "\n"
     ]
    },
    {
     "data": {
      "application/vnd.jupyter.widget-view+json": {
       "model_id": "b7645129da6e4873882ec97f62c813fd",
       "version_major": 2,
       "version_minor": 0
      },
      "text/plain": [
       "HBox(children=(FloatProgress(value=0.0, description='2017', max=1298.0, style=ProgressStyle(description_width=…"
      ]
     },
     "metadata": {},
     "output_type": "display_data"
    },
    {
     "name": "stdout",
     "output_type": "stream",
     "text": [
      "\n"
     ]
    },
    {
     "data": {
      "application/vnd.jupyter.widget-view+json": {
       "model_id": "1c8339c240614fe5a63960de2fc22964",
       "version_major": 2,
       "version_minor": 0
      },
      "text/plain": [
       "HBox(children=(FloatProgress(value=0.0, description='2018', max=1298.0, style=ProgressStyle(description_width=…"
      ]
     },
     "metadata": {},
     "output_type": "display_data"
    },
    {
     "name": "stdout",
     "output_type": "stream",
     "text": [
      "\n"
     ]
    }
   ],
   "source": [
    "variable_names = list(variables)\n",
    "variable_names.reverse()\n",
    "count = 0\n",
    "errors = {}\n",
    "data = pd.DataFrame()\n",
    "for year in range(2012, 2019):\n",
    "    with tqdm(total=len(census_ids)-1, desc=str(year)) as pbar:\n",
    "        for idx in range(len(census_ids)):\n",
    "            town = list(census_ids)[idx]\n",
    "            try:\n",
    "                id_ = census_ids[town][-5:]\n",
    "                if id_ == '67158':\n",
    "                    continue\n",
    "                geo = censusdata.censusgeo([('state', '17'), ('place', id_)])\n",
    "                frame = censusdata.download('acs5', year, geo, variable_names, key='ef2b118b032f366e377ba482a7e9cdbc8cbfd617')\n",
    "                frame['geo_id'] = census_ids[town]\n",
    "                frame['municipality'] = town\n",
    "                frame['year'] = year\n",
    "                frame = frame[['geo_id','municipality', 'year'] + variable_names]\n",
    "                frame.index = [count]\n",
    "                data = data.append(frame)\n",
    "                count +=1 \n",
    "                pbar.update(1)\n",
    "            except:\n",
    "                pbar.write(f'Error thrown for year {year}')\n",
    "                pbar.update(1)\n",
    "                continue"
   ]
  },
  {
   "cell_type": "code",
   "execution_count": 26,
   "metadata": {
    "ExecuteTime": {
     "end_time": "2021-02-02T02:26:40.252146Z",
     "start_time": "2021-02-02T02:26:37.111151Z"
    }
   },
   "outputs": [
    {
     "name": "stdout",
     "output_type": "stream",
     "text": [
      "Database created successfully!\n"
     ]
    }
   ],
   "source": [
    "data.to_sql('demographics', engine, if_exists='replace')\n",
    "\n",
    "print('Database created successfully!')"
   ]
  }
 ],
 "metadata": {
  "kernelspec": {
   "display_name": "Python 3",
   "language": "python",
   "name": "python3"
  },
  "language_info": {
   "codemirror_mode": {
    "name": "ipython",
    "version": 3
   },
   "file_extension": ".py",
   "mimetype": "text/x-python",
   "name": "python",
   "nbconvert_exporter": "python",
   "pygments_lexer": "ipython3",
   "version": "3.7.7"
  },
  "toc": {
   "base_numbering": 1,
   "nav_menu": {},
   "number_sections": false,
   "sideBar": true,
   "skip_h1_title": true,
   "title_cell": "Table of Contents",
   "title_sidebar": "Contents",
   "toc_cell": false,
   "toc_position": {},
   "toc_section_display": true,
   "toc_window_display": false
  },
  "varInspector": {
   "cols": {
    "lenName": 16,
    "lenType": 16,
    "lenVar": 40
   },
   "kernels_config": {
    "python": {
     "delete_cmd_postfix": "",
     "delete_cmd_prefix": "del ",
     "library": "var_list.py",
     "varRefreshCmd": "print(var_dic_list())"
    },
    "r": {
     "delete_cmd_postfix": ") ",
     "delete_cmd_prefix": "rm(",
     "library": "var_list.r",
     "varRefreshCmd": "cat(var_dic_list()) "
    }
   },
   "types_to_exclude": [
    "module",
    "function",
    "builtin_function_or_method",
    "instance",
    "_Feature"
   ],
   "window_display": false
  }
 },
 "nbformat": 4,
 "nbformat_minor": 4
}
