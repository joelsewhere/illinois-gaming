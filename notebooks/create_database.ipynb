{
 "cells": [
  {
   "cell_type": "markdown",
   "metadata": {},
   "source": [
    "# Notebook Purpose\n",
    "\n",
    "This notebook serves as documented walkthrough for the creation of the `illinois-gambling` postgresql database.\n",
    "\n",
    "### Data Sources\n",
    "\n",
    "This database contains data from the Illinois Gaming Board's monthly reports for both [Video Gambling](https://www.igb.illinois.gov/VideoReports.aspx) and [Casino Gambling](https://www.igb.illinois.gov/CasinoReports.aspx) as well as demographic data for each Illinois municipality from the 5 year American Community Survey.\n",
    "\n",
    "<center><img src=\"../static/schema.png\" width=\"1000\"></center>"
   ]
  },
  {
   "cell_type": "code",
   "execution_count": 3,
   "metadata": {},
   "outputs": [],
   "source": [
    "import sys\n",
    "sys.path.append('..')\n",
    "import pandas as pd\n",
    "import os\n",
    "import numpy as np\n",
    "from geopy import geocoders  \n",
    "import matplotlib.pyplot as plt\n",
    "from io import BytesIO\n",
    "from geopy.geocoders import Nominatim\n",
    "import psycopg2\n",
    "from requests import get\n",
    "import zipfile\n",
    "import censusdata\n",
    "import json\n",
    "from geopy.distance import geodesic\n",
    "from sqlalchemy import create_engine\n",
    "geolocator = Nominatim(user_agent='Illinois Gambling')"
   ]
  },
  {
   "cell_type": "markdown",
   "metadata": {},
   "source": [
    "# Create Database"
   ]
  },
  {
   "cell_type": "code",
   "execution_count": 4,
   "metadata": {},
   "outputs": [],
   "source": [
    "# # Connect to postgresql\n",
    "# conn = psycopg2.connect(dbname=\"postgres\")\n",
    "# cursor = conn.cursor()\n",
    "# # Set configurations \n",
    "# conn.autocommit = True \n",
    "# conn.set_isolation_level(0)\n",
    "# # Create empty database\n",
    "# cursor.execute('CREATE DATABASE illinois_gambling;')\n",
    "# conn.close()\n",
    "# Open up new connection to database\n",
    "conn = psycopg2.connect(dbname=\"illinois_gambling\")\n",
    "# Create sqlalchemy engine to streamline the sql process\n",
    "engine = create_engine('postgresql+psycopg2://joel:@localhost:5432/illinois_gambling')"
   ]
  },
  {
   "cell_type": "markdown",
   "metadata": {},
   "source": [
    "# Casino Table"
   ]
  },
  {
   "cell_type": "code",
   "execution_count": 108,
   "metadata": {
    "collapsed": true,
    "jupyter": {
     "outputs_hidden": true
    }
   },
   "outputs": [],
   "source": [
    "# Create import path for the casino gambling data\n",
    "casino_path = os.path.join('data', 'casino_gambling', 'casino_data.csv')\n",
    "# Read in csv file\n",
    "casino_table = pd.read_csv(casino_path)\n",
    "# Change date column from string to datetime\n",
    "casino_table['date'] = pd.to_datetime(casino_table.date)\n",
    "\n",
    "# Data Cleaning: \n",
    "# The naming of casinos is somewhat inconsistent.\n",
    "# Below, we map names that deviate from the majority\n",
    "# so they are consistent across observations\n",
    "CASINO_REFORMAT = {'Alton': 'ALTON - ARGOSY',\n",
    "                'East Peoria': 'E. PEORIA - PAR-A-DICE', \n",
    "                'Rock Island': 'ROCK ISLAND - JUMERS', \n",
    "                 'Joliet - Empress': 'JOLIET - Argosy Empress Casino', \n",
    "                 'Metropolis': 'METROPOLIS - HARRAHS',\n",
    "                \"Joliet - Harrah's\": 'JOLIET - HARRAHS', \n",
    "                'Aurora': 'AURORA - HOLLYWOOD', \n",
    "                'E  St  Louis': 'E. PEORIA - PAR-A-DICE', \n",
    "                'Elgin': 'ELGIN - GRAND VICTORIA',\n",
    "                'Joliet - Hollywood': 'JOLIET - HOLLYWOOD', \n",
    "                'Des Plaines': 'DES PLAINES - RIVERS CASINO', \n",
    "                'METROPOLIS - HARRAHS*': 'METROPOLIS - HARRAHS'}\n",
    "\n",
    "def casino_map(casino):\n",
    "    if casino in CASINO_REFORMAT:\n",
    "        return CASINO_REFORMAT[casino]\n",
    "    else:\n",
    "        return casino\n",
    "\n",
    "casino_table['casino'] = casino_table.casino.apply(casino_map)\n",
    "\n",
    "# Data Cleaning:\n",
    "# To make the columns more informative, we seperate the \n",
    "# name of the casino from the name of the municipality.\n",
    "casino_table['municipality'] = casino_table.casino.apply(lambda x: x.split(' - ')[0])\n",
    "casino_table['casino'] = casino_table.casino.apply(lambda x: x.split(' - ')[1])\n",
    "casino_table['municipality'] = casino_table.municipality.apply(lambda x: x.title().strip().replace('E.', 'East'))\n",
    "\n",
    "\n",
    "# The location of the casino is useful information\n",
    "# for measuring the relationship between video gambling\n",
    "# and casino performance. The addresses were searched manually \n",
    "# Using a google search. While it would be valuable to have a \n",
    "# dynamic way of fetching this information, it is unlikely that\n",
    "# these data points will change. \n",
    "casino_addresses = {'Alton': '1 Piasa St, Alton, IL 62002',\n",
    "'East Peoria':'21 Blackjack Blvd, East Peoria, IL 61611',\n",
    "'Rock Island':'777 Jumer Dr, Rock Island, IL 61201',\n",
    "'Joliet': '777 Hollywood Blvd, Joliet, IL 60436',\n",
    "'Aurora':'100 E Front St, Metropolis, IL 62960',\n",
    "'East St. Louis': '200 S Front St, East St Louis, IL 62201',\n",
    "'Elgin': '250 S Grove Ave, Elgin, IL 60120',\n",
    "'Des Plaines':'3000 S River Rd, Des Plaines, IL 60018',\n",
    "'Metropolis': '100 E Front St, Metropolis, IL 62960'}\n",
    "\n",
    "casino_table['address'] = casino_table.municipality.map(casino_addresses)\n",
    "\n",
    "# The two columns below are aggregates of other columns. Because these numbers are \n",
    "# easily calculable from the existing data, they are dropped. \n",
    "casino_table.drop(['agr_per_square_foot', 'agr_per_admission'], axis = 1, inplace=True)\n",
    "\n",
    "def coordinates_from_address(address):\n",
    "    \n",
    "    location = geolocator.geocode(address)\n",
    "    if location:\n",
    "        return location.latitude, location.longitude\n",
    "\n",
    "coordinates_from_address(casino_table.address[0])\n",
    "\n",
    "casino_coordinates = {}\n",
    "for address in casino_table.address.unique():\n",
    "    try:\n",
    "        latitude, longitude = coordinates_from_address(address)\n",
    "        casino_coordinates[address] = (latitude, longitude)\n",
    "    except:\n",
    "        continue\n",
    "\n",
    "casino_coordinates['777 Hollywood Blvd, Joliet, IL 60436'] = (41.479289, -88.145328)\n",
    "casino_table['latitude'] = casino_table.address.apply(lambda x: casino_coordinates[x][0])\n",
    "casino_table['longitude'] = casino_table.address.apply(lambda x: casino_coordinates[x][1])\n",
    "\n",
    "\n",
    "casino_table.rename({'casino': 'name', 'agr': 'adjusted_gross_receipt',\n",
    "                    'casino_square_feet': 'square_feet'}, axis = 1, inplace=True)\n",
    "\n",
    "casino_table = casino_table[['address', 'name', 'date', 'municipality',\n",
    "              'adjusted_gross_receipt', 'square_feet', 'admissions',\n",
    "               'state_share', 'local_share','latitude', 'longitude']]\n",
    "\n",
    "casino_table.to_sql('casino', engine, if_exists='append', index=True)"
   ]
  },
  {
   "cell_type": "markdown",
   "metadata": {},
   "source": [
    "# Video Gambling Table"
   ]
  },
  {
   "cell_type": "code",
   "execution_count": 99,
   "metadata": {},
   "outputs": [],
   "source": [
    "video_gambling_path = os.path.join('data', 'video_gambling','vg_gambling_09-01-12_10-01-20.csv')\n",
    "video_gambling_table = pd.read_csv(video_gambling_path)\n",
    "video_gambling_table['date'] = pd.to_datetime(video_gambling_table.date)\n",
    "video_gambling_table = video_gambling_table.dropna()\n",
    "\n",
    "video_gambling_table = video_gambling_table[['date','Establishment', 'License Number', 'Municipality', 'VGT Count',\n",
    "       'Amount Played', 'Amount Won', 'Net Wager', 'Funds In', 'Funds Out',\n",
    "       'Net Terminal Income', 'NTI Tax', 'State Share', 'Municipality Share'\n",
    "       ]]\n",
    "\n",
    "column_edit = lambda x: x.lower().strip().replace(' ', '_').replace('-', '_')\n",
    "video_gambling_table.columns = [column_edit(column) for column in video_gambling_table.columns]\n",
    "\n",
    "video_gambling_table.rename({'vgt_count': 'terminal_count'}, axis = 1, inplace=True)\n",
    "\n",
    "video_gambling_table.to_sql('video_gambling', engine, if_exists='append', index=True)"
   ]
  },
  {
   "cell_type": "markdown",
   "metadata": {},
   "source": [
    "# Municipality Table"
   ]
  },
  {
   "cell_type": "code",
   "execution_count": 43,
   "metadata": {},
   "outputs": [],
   "source": [
    "# Request census geo id dataset\n",
    "\n",
    "response = get('https://www2.census.gov/programs-surveys/acs/summary_file/2018/data/5_year_by_state/Illinois_All_Geographies_Not_Tracts_Block_Groups.zip')\n",
    "translated = BytesIO(response.content)\n",
    "zip_file = zipfile.ZipFile(translated)\n",
    "csv_raw = zip_file.open('g20185il.csv')\n",
    "municipality_ids = pd.read_csv(csv_raw, header=None)\n",
    "municipality_ids = municipality_ids[municipality_ids.iloc[:,2] == 160]\n",
    "\n",
    "# Collect ids for municipalities\n",
    "census_ids = {}\n",
    "\n",
    "counties = video_gambling_table[video_gambling_table.municipality.str.contains('county', case=False)].index\n",
    "municipalities = video_gambling_table.loc[[x for x in video_gambling_table.index if x not in counties]]\n",
    "towns_unique = list(municipalities.municipality.unique())\n",
    "towns_unique += [town for town in casino_table.municipality.unique() if town not in towns_unique]\n",
    "\n",
    "for town in towns_unique:\n",
    "    try:\n",
    "        search = municipality_ids[municipality_ids.iloc[:,49].str.contains(town, case=False)]\n",
    "        search  = search[~search.iloc[:,49].str.contains('CDP')]\n",
    "        id_ = search.iloc[:,48].values[0]\n",
    "        census_ids[town] = id_\n",
    "    except:\n",
    "        census_ids[town] = None\n",
    "\n",
    "error_cities = {'La Salle': 'lasalle',\n",
    " 'Lamoille': 'la moille',\n",
    " 'Windsor (Mercer)': 'windsor village' ,\n",
    " 'Windsor (Shelby)': 'windsor city',\n",
    " 'Leroy': 'le roy',\n",
    " 'Depue': 'de pue',\n",
    " 'Wilmington (Will)': 'wilmington city',\n",
    " 'Sainte Marie': 'ste. marie',\n",
    " 'Gulfport': 'Gulf port',\n",
    " 'Saint Elmo': 'St. Elmo',\n",
    " 'Whiteash': 'Whiteash',\n",
    " 'Wilmington (Greene)': 'wilmington village',\n",
    " 'Garden Prairie': 'Garden Prairie'}\n",
    "\n",
    "for city in error_cities:\n",
    "    id_ = municipality_ids[municipality_ids.iloc[:,49].str.contains(error_cities[city], case=False)].iloc[:,48].values[0]\n",
    "    census_ids[city] = id_\n",
    "\n",
    "municipal_table = pd.DataFrame()\n",
    "municipal_table['name'] = towns_unique\n",
    "municipal_table['id'] = municipal_table.name.map(census_ids)\n",
    "\n",
    "\n",
    "def find_geo_data(municipality):\n",
    "\n",
    "    location = geolocator.geocode(f'{municipality}, Illinois')\n",
    "    if location:\n",
    "        return location.raw\n",
    "\n",
    "town_geo = {}\n",
    "\n",
    "for town in towns_unique:\n",
    "    town_geo[town] = find_geo_data(town)\n",
    "\n",
    "\n",
    "def collect_coordinates(town):\n",
    "    return town_geo[town]['lat'], town_geo[town]['lon'], town_geo[town]['boundingbox']\n",
    "\n",
    "municipal_table['latitude'], municipal_table['longitude'], municipal_table['boundingbox'] = zip(*municipal_table.name.apply(collect_coordinates))\n",
    "\n",
    "closest_casinos = []\n",
    "for idx, row in municipal_table.iterrows():\n",
    "    town_coor = (row.latitude, row.longitude)\n",
    "    distances = {}\n",
    "    for casino in casino_coordinates:\n",
    "        casino_coor = casino_coordinates[casino]\n",
    "        miles = geodesic(town_coor, casino_coor).miles\n",
    "        distances[casino] = miles\n",
    "    sort = sorted(distances.items(), key=lambda x: x[1])[0][0]\n",
    "    closest_casinos.append(sort)    \n",
    "\n",
    "\n",
    "\n",
    "municipal_table['nearest_casino'] = closest_casinos\n",
    "municipal_table = municipal_table[['name', 'id', 'nearest_casino','latitude', 'longitude', 'boundingbox']]\n",
    "municipal_table.rename({'id': 'geo_id'}, axis=1, inplace=True)\n",
    "\n",
    "municipal_table.to_sql('municipality', engine, if_exists='replace', index=False)"
   ]
  },
  {
   "cell_type": "code",
   "execution_count": 9,
   "metadata": {},
   "outputs": [],
   "source": [
    "munic = pd.read_sql('''select * from municipality;''', engine)"
   ]
  },
  {
   "cell_type": "code",
   "execution_count": 12,
   "metadata": {},
   "outputs": [],
   "source": [
    "census_ids = munic[['name', 'geo_id']].set_index('name').to_dict()['geo_id']"
   ]
  },
  {
   "cell_type": "markdown",
   "metadata": {},
   "source": [
    "# Census Data"
   ]
  },
  {
   "cell_type": "code",
   "execution_count": 5,
   "metadata": {},
   "outputs": [],
   "source": [
    "variables_path = os.path.join('data', 'census_variables.json')\n",
    "with open(variables_path, 'r') as file:\n",
    "    variables = json.load(file)"
   ]
  },
  {
   "cell_type": "markdown",
   "metadata": {},
   "source": [
    "### Add variable lookup table"
   ]
  },
  {
   "cell_type": "code",
   "execution_count": null,
   "metadata": {},
   "outputs": [],
   "source": [
    "lookup"
   ]
  },
  {
   "cell_type": "code",
   "execution_count": 6,
   "metadata": {},
   "outputs": [],
   "source": [
    "lookup = pd.DataFrame(variables, index=[0]).T.reset_index()\n",
    "lookup.columns = ['variable', 'description']\n",
    "lookup['variable'] = lookup.variable.apply(lambda x: x.lower())\n",
    "\n",
    "lookup.to_sql('demographics_lookup', engine)"
   ]
  },
  {
   "cell_type": "markdown",
   "metadata": {},
   "source": [
    "### Create Demographics Table"
   ]
  },
  {
   "cell_type": "code",
   "execution_count": 15,
   "metadata": {},
   "outputs": [
    {
     "name": "stdout",
     "output_type": "stream",
     "text": [
      "Unexpected response (URL: https://api.census.gov/data/2012/acs/acs5?get=NAME,B01003_001E,B19326_001E,B15003_001E,B01002_001E,C02003_008E,C02003_007E,C02003_006E,C02003_005E,C02003_004E,C02003_003E,C24050_071E,C24050_057E,C24050_043E,C24050_029E,C24050_015E,C24050_014E,C24050_013E,C24050_012E,C24050_011E,C24050_010E,C24050_009E,C24050_008E,C24050_007E,C24050_006E,C24050_005E,C24050_004E,C24050_003E,C24050_002E&for=place:67158&in=state:17&key=ef2b118b032f366e377ba482a7e9cdbc8cbfd617):  \n",
      "Unexpected response (URL: https://api.census.gov/data/2013/acs/acs5?get=NAME,B01003_001E,B19326_001E,B15003_001E,B01002_001E,C02003_008E,C02003_007E,C02003_006E,C02003_005E,C02003_004E,C02003_003E,C24050_071E,C24050_057E,C24050_043E,C24050_029E,C24050_015E,C24050_014E,C24050_013E,C24050_012E,C24050_011E,C24050_010E,C24050_009E,C24050_008E,C24050_007E,C24050_006E,C24050_005E,C24050_004E,C24050_003E,C24050_002E&for=place:67158&in=state:17&key=ef2b118b032f366e377ba482a7e9cdbc8cbfd617):  \n",
      "Unexpected response (URL: https://api.census.gov/data/2014/acs/acs5?get=NAME,B01003_001E,B19326_001E,B15003_001E,B01002_001E,C02003_008E,C02003_007E,C02003_006E,C02003_005E,C02003_004E,C02003_003E,C24050_071E,C24050_057E,C24050_043E,C24050_029E,C24050_015E,C24050_014E,C24050_013E,C24050_012E,C24050_011E,C24050_010E,C24050_009E,C24050_008E,C24050_007E,C24050_006E,C24050_005E,C24050_004E,C24050_003E,C24050_002E&for=place:67158&in=state:17&key=ef2b118b032f366e377ba482a7e9cdbc8cbfd617):  \n",
      "Unexpected response (URL: https://api.census.gov/data/2015/acs/acs5?get=NAME,B01003_001E,B19326_001E,B15003_001E,B01002_001E,C02003_008E,C02003_007E,C02003_006E,C02003_005E,C02003_004E,C02003_003E,C24050_071E,C24050_057E,C24050_043E,C24050_029E,C24050_015E,C24050_014E,C24050_013E,C24050_012E,C24050_011E,C24050_010E,C24050_009E,C24050_008E,C24050_007E,C24050_006E,C24050_005E,C24050_004E,C24050_003E,C24050_002E&for=place:67158&in=state:17&key=ef2b118b032f366e377ba482a7e9cdbc8cbfd617):  \n",
      "Unexpected response (URL: https://api.census.gov/data/2016/acs/acs5?get=NAME,B01003_001E,B19326_001E,B15003_001E,B01002_001E,C02003_008E,C02003_007E,C02003_006E,C02003_005E,C02003_004E,C02003_003E,C24050_071E,C24050_057E,C24050_043E,C24050_029E,C24050_015E,C24050_014E,C24050_013E,C24050_012E,C24050_011E,C24050_010E,C24050_009E,C24050_008E,C24050_007E,C24050_006E,C24050_005E,C24050_004E,C24050_003E,C24050_002E&for=place:67158&in=state:17&key=ef2b118b032f366e377ba482a7e9cdbc8cbfd617):  \n",
      "Unexpected response (URL: https://api.census.gov/data/2017/acs/acs5?get=NAME,B01003_001E,B19326_001E,B15003_001E,B01002_001E,C02003_008E,C02003_007E,C02003_006E,C02003_005E,C02003_004E,C02003_003E,C24050_071E,C24050_057E,C24050_043E,C24050_029E,C24050_015E,C24050_014E,C24050_013E,C24050_012E,C24050_011E,C24050_010E,C24050_009E,C24050_008E,C24050_007E,C24050_006E,C24050_005E,C24050_004E,C24050_003E,C24050_002E&for=place:67158&in=state:17&key=ef2b118b032f366e377ba482a7e9cdbc8cbfd617):  \n"
     ]
    }
   ],
   "source": [
    "variable_names = list(variables)\n",
    "variable_names.reverse()\n",
    "count = 0\n",
    "errors = {}\n",
    "for year in range(2012, 2019):\n",
    "    for town in census_ids:\n",
    "        try:\n",
    "            id_ = census_ids[town][-5:]\n",
    "            geo = censusdata.censusgeo([('state', '17'), ('place', id_)])\n",
    "            data = censusdata.download('acs5', year, geo, variable_names, key='ef2b118b032f366e377ba482a7e9cdbc8cbfd617')\n",
    "            data['geo_id'] = census_ids[town]\n",
    "            data['municipality'] = town\n",
    "            data['year'] = year\n",
    "            data = data[['geo_id','municipality', 'year'] + variable_names]\n",
    "            data.index = [count]\n",
    "            data.to_sql('demographics', engine, if_exists='append')\n",
    "            count +=1 \n",
    "        except:\n",
    "            if town in errors:\n",
    "                errors[town] += 1\n",
    "            else:\n",
    "                errors[town] = 0\n",
    "            continue"
   ]
  },
  {
   "cell_type": "code",
   "execution_count": 147,
   "metadata": {},
   "outputs": [
    {
     "name": "stdout",
     "output_type": "stream",
     "text": [
      "St. Rose\n"
     ]
    }
   ],
   "source": [
    "for town in census_ids:\n",
    "    if census_ids[town][-5:] == '67158':\n",
    "        print(town)"
   ]
  }
 ],
 "metadata": {
  "kernelspec": {
   "display_name": "Python 3",
   "language": "python",
   "name": "python3"
  },
  "language_info": {
   "codemirror_mode": {
    "name": "ipython",
    "version": 3
   },
   "file_extension": ".py",
   "mimetype": "text/x-python",
   "name": "python",
   "nbconvert_exporter": "python",
   "pygments_lexer": "ipython3",
   "version": "3.7.7"
  }
 },
 "nbformat": 4,
 "nbformat_minor": 4
}
