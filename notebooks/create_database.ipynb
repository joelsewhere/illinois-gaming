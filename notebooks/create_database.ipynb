{
 "cells": [
  {
   "cell_type": "markdown",
   "metadata": {},
   "source": [
    "# Notebook Purpose\n",
    "\n",
    "This notebook serves as documented walkthrough for the creation of the `illinois-gambling` postgresql database.\n",
    "\n",
    "### Data Sources\n",
    "\n",
    "This database contains data from the Illinois Gaming Board's monthly reports for both [Video Gambling](https://www.igb.illinois.gov/VideoReports.aspx) and [Casino Gambling](https://www.igb.illinois.gov/CasinoReports.aspx) as well as demographic data for each Illinois municipality from the 5 year American Community Survey.\n",
    "\n",
    "<center><img src=\"../static/schema.png\" width=\"1000\"></center>"
   ]
  },
  {
   "cell_type": "code",
   "execution_count": 1,
   "metadata": {
    "ExecuteTime": {
     "end_time": "2020-12-21T16:50:31.050882Z",
     "start_time": "2020-12-21T16:50:29.803987Z"
    }
   },
   "outputs": [],
   "source": [
    "import sys\n",
    "sys.path.append('..')\n",
    "import pandas as pd\n",
    "import os\n",
    "import numpy as np\n",
    "from geopy import geocoders  \n",
    "import matplotlib.pyplot as plt\n",
    "from io import BytesIO\n",
    "from geopy.geocoders import Nominatim\n",
    "import psycopg2\n",
    "from requests import get\n",
    "import zipfile\n",
    "import censusdata\n",
    "import json\n",
    "from geopy.distance import geodesic\n",
    "from sqlalchemy import create_engine\n",
    "from tqdm.notebook import tqdm\n",
    "geolocator = Nominatim(user_agent='Illinois Gambling')"
   ]
  },
  {
   "cell_type": "markdown",
   "metadata": {},
   "source": [
    "# Create Database"
   ]
  },
  {
   "cell_type": "markdown",
   "metadata": {
    "ExecuteTime": {
     "end_time": "2020-12-20T22:59:28.058648Z",
     "start_time": "2020-12-20T22:59:27.972977Z"
    },
    "run_control": {
     "marked": false
    }
   },
   "source": [
    "Connect to postgresql"
   ]
  },
  {
   "cell_type": "code",
   "execution_count": 2,
   "metadata": {
    "ExecuteTime": {
     "end_time": "2020-12-21T16:50:31.376090Z",
     "start_time": "2020-12-21T16:50:31.361190Z"
    },
    "run_control": {
     "marked": false
    }
   },
   "outputs": [],
   "source": [
    "conn = psycopg2.connect(dbname=\"postgres\")\n",
    "cursor = conn.cursor()"
   ]
  },
  {
   "cell_type": "markdown",
   "metadata": {
    "ExecuteTime": {
     "end_time": "2020-12-20T22:59:28.058648Z",
     "start_time": "2020-12-20T22:59:27.972977Z"
    },
    "run_control": {
     "marked": false
    }
   },
   "source": [
    "Set configurations "
   ]
  },
  {
   "cell_type": "code",
   "execution_count": 3,
   "metadata": {
    "ExecuteTime": {
     "end_time": "2020-12-21T16:50:32.127361Z",
     "start_time": "2020-12-21T16:50:32.124651Z"
    },
    "run_control": {
     "marked": false
    }
   },
   "outputs": [],
   "source": [
    "conn.autocommit = True \n",
    "conn.set_isolation_level(0)"
   ]
  },
  {
   "cell_type": "markdown",
   "metadata": {
    "ExecuteTime": {
     "end_time": "2020-12-20T22:59:28.058648Z",
     "start_time": "2020-12-20T22:59:27.972977Z"
    },
    "run_control": {
     "marked": false
    }
   },
   "source": [
    "If creating the database from scratch, uncomment the code below to drop the database if it exists and create an empty `illinois-gaming` database."
   ]
  },
  {
   "cell_type": "code",
   "execution_count": 4,
   "metadata": {
    "ExecuteTime": {
     "end_time": "2020-12-21T16:30:00.039620Z",
     "start_time": "2020-12-21T16:30:00.037075Z"
    },
    "run_control": {
     "marked": false
    }
   },
   "outputs": [],
   "source": [
    "# cursor.execute('DROP DATABASE IF EXISTS illinois_gambling;')\n",
    "# cursor.execute('CREATE DATABASE illinois_gambling;')\n",
    "# conn.close()"
   ]
  },
  {
   "cell_type": "markdown",
   "metadata": {
    "ExecuteTime": {
     "end_time": "2020-12-20T22:59:28.058648Z",
     "start_time": "2020-12-20T22:59:27.972977Z"
    },
    "run_control": {
     "marked": false
    }
   },
   "source": [
    "Now that the database is created, open a connection to the `illinois-gambling`  database"
   ]
  },
  {
   "cell_type": "code",
   "execution_count": 4,
   "metadata": {
    "ExecuteTime": {
     "end_time": "2020-12-21T16:50:33.732178Z",
     "start_time": "2020-12-21T16:50:33.698118Z"
    },
    "run_control": {
     "marked": false
    }
   },
   "outputs": [],
   "source": [
    "conn = psycopg2.connect(dbname=\"illinois_gambling\")\n",
    "user = conn.get_dsn_parameters()['user']\n",
    "port = conn.get_dsn_parameters()['port'] \n",
    "# Create sqlalchemy engine to streamline the sql process\n",
    "engine = create_engine(f'postgresql+psycopg2://{user}:@localhost:{port}/illinois_gambling')"
   ]
  },
  {
   "cell_type": "markdown",
   "metadata": {},
   "source": [
    "# Casino Table"
   ]
  },
  {
   "cell_type": "code",
   "execution_count": 3,
   "metadata": {
    "ExecuteTime": {
     "end_time": "2020-12-20T21:09:43.861492Z",
     "start_time": "2020-12-20T21:09:39.082071Z"
    }
   },
   "outputs": [
    {
     "data": {
      "application/vnd.jupyter.widget-view+json": {
       "model_id": "05dd2271295246738152a6223059fc85",
       "version_major": 2,
       "version_minor": 0
      },
      "text/plain": [
       "HBox(children=(FloatProgress(value=0.0, description='–––––––––––––––––––––––––––––––––––', layout=Layout(flex=…"
      ]
     },
     "metadata": {},
     "output_type": "display_data"
    },
    {
     "name": "stdout",
     "output_type": "stream",
     "text": [
      "\n"
     ]
    }
   ],
   "source": [
    "with tqdm(total = 3, desc = ''.rjust(35, '–'), ncols=800) as pbar:\n",
    "    pbar.desc = ' Reading scraped data...'.rjust(35, '–')\n",
    "    # Create import path for the casino gambling data\n",
    "    casino_path = os.path.join(os.pardir,'data', 'casino_gambling', 'casino_data.csv')\n",
    "    # Read in csv file\n",
    "    casino_table = pd.read_csv(casino_path)\n",
    "    # Change date column from string to datetime\n",
    "    casino_table['date'] = pd.to_datetime(casino_table.date)\n",
    "    pbar.update(1)\n",
    "    \n",
    "# =======================================================================\n",
    "    pbar.desc = ' Cleaning casino data...'.rjust(35, '–')\n",
    "    # Data Cleaning: \n",
    "    # The naming of casinos is somewhat inconsistent.\n",
    "    # Below, we map names that deviate from the majority\n",
    "    # so they are consistent across observations\n",
    "    CASINO_REFORMAT = {'Alton': 'ALTON - ARGOSY',\n",
    "                       'Argosy Casino Alton': 'ALTON - ARGOSY',\n",
    "                    'East Peoria': 'E. PEORIA - PAR-A-DICE', \n",
    "                       'Par-A-Dice Hotel Casino': 'E. PEORIA - PAR-A-DICE',\n",
    "                    'Rock Island': 'ROCK ISLAND - JUMERS', \n",
    "                       \"Jumer's Casino & Hotel\": 'ROCK ISLAND - JUMERS',\n",
    "                     'Joliet - Empress': 'JOLIET - Argosy Empress Casino', \n",
    "                     'Metropolis': 'METROPOLIS - HARRAHS',\n",
    "                    \"Joliet - Harrah's\": 'JOLIET - HARRAHS',\n",
    "                    \"Harrah's Joliet Casino & Hotel\": 'JOLIET - HARRAHS',\n",
    "                    'Aurora': 'AURORA - HOLLYWOOD', \n",
    "                    'Hollywood Casino Aurora': 'AURORA - HOLLYWOOD',\n",
    "                    'E  St  Louis': 'E. ST. LOUIS - CASINO QUEEN',\n",
    "                    'E St  Louis': 'E. ST. LOUIS - CASINO QUEEN',\n",
    "                    'DraftKings at Casino Queen': 'E. ST. LOUIS - CASINO QUEEN',\n",
    "                    'Elgin': 'ELGIN - GRAND VICTORIA',\n",
    "                    'Grand Victoria Casino': 'ELGIN - GRAND VICTORIA',\n",
    "                    'Joliet - Hollywood': 'JOLIET - HOLLYWOOD',\n",
    "                       'Hollywood Casino Joliet': 'JOLIET - HOLLYWOOD',\n",
    "                    'Des Plaines': 'DES PLAINES - RIVERS CASINO', \n",
    "                       'Rivers Casino': 'DES PLAINES - RIVERS CASINO',\n",
    "                    'METROPOLIS - HARRAHS*': 'METROPOLIS - HARRAHS',\n",
    "                      \"Harrah's Metropolis Casino\": 'METROPOLIS - HARRAHS'}\n",
    "\n",
    "    def casino_map(casino):\n",
    "        if casino in CASINO_REFORMAT:\n",
    "            return CASINO_REFORMAT[casino]\n",
    "        else:\n",
    "            return casino\n",
    "\n",
    "    casino_table['casino'] = casino_table.casino.apply(casino_map)\n",
    "\n",
    "    # Data Cleaning:\n",
    "    # To make the columns more informative, we seperate the \n",
    "    # name of the casino from the name of the municipality.\n",
    "    casino_table['municipality'] = casino_table.casino.apply(lambda x: x.split(' - ')[0])\n",
    "    def find_error(text):\n",
    "        try:\n",
    "            return text.split(' - ')[1]\n",
    "        except:\n",
    "            print(text)\n",
    "            ValueError('Oops')\n",
    "    casino_table.casino.apply(find_error)\n",
    "    # casino_table['casino'] = casino_table.casino.apply(lambda x: x.split(' - ')[1])\n",
    "    casino_table['municipality'] = casino_table.municipality.apply(lambda x: x.title().strip().replace('E.', 'East'))\n",
    "\n",
    "    pbar.desc = ' Searching for geo data'.rjust(35, '–')\n",
    "    # The location of the casino is useful information\n",
    "    # for measuring the relationship between video gambling\n",
    "    # and casino performance. The addresses were searched manually \n",
    "    # Using a google search. While it would be valuable to have a \n",
    "    # dynamic way of fetching this information, it is unlikely that\n",
    "    # these data points will change. \n",
    "    casino_addresses = {'Alton': '1 Piasa St, Alton, IL 62002',\n",
    "    'East Peoria':'21 Blackjack Blvd, East Peoria, IL 61611',\n",
    "    'Rock Island':'777 Jumer Dr, Rock Island, IL 61201',\n",
    "    'Joliet': '777 Hollywood Blvd, Joliet, IL 60436',\n",
    "    'Aurora':'100 E Front St, Metropolis, IL 62960',\n",
    "    'East St. Louis': '200 S Front St, East St Louis, IL 62201',\n",
    "    'Elgin': '250 S Grove Ave, Elgin, IL 60120',\n",
    "    'Des Plaines':'3000 S River Rd, Des Plaines, IL 60018',\n",
    "    'Metropolis': '100 E Front St, Metropolis, IL 62960'}\n",
    "\n",
    "    casino_table['address'] = casino_table.municipality.map(casino_addresses)\n",
    "\n",
    "    # The two columns below are aggregates of other columns. Because these numbers are \n",
    "    # easily calculable from the existing data, they are dropped. \n",
    "    # casino_table.drop(['agr_per_square_foot', 'agr_per_admission'], axis = 1, inplace=True)\n",
    "\n",
    "    def coordinates_from_address(address):\n",
    "\n",
    "        location = geolocator.geocode(address)\n",
    "        if location:\n",
    "            return location.latitude, location.longitude\n",
    "\n",
    "    coordinates_from_address(casino_table.address[0])\n",
    "\n",
    "    casino_coordinates = {}\n",
    "    for address in casino_table.address.unique():\n",
    "        try:\n",
    "            latitude, longitude = coordinates_from_address(address)\n",
    "            casino_coordinates[address] = (latitude, longitude)\n",
    "        except:\n",
    "            continue\n",
    "    pbar.desc = ' Matching coordinates...'.rjust(35, '–')\n",
    "    casino_coordinates['777 Hollywood Blvd, Joliet, IL 60436'] = (41.479289, -88.145328)\n",
    "    casino_table['latitude'] = casino_table.address.apply(lambda x: casino_coordinates[x][0])\n",
    "    casino_table['longitude'] = casino_table.address.apply(lambda x: casino_coordinates[x][1])\n",
    "\n",
    "\n",
    "    casino_table.rename({'casino': 'name', 'agr': 'adjusted_gross_receipt',\n",
    "                        'casino_square_feet': 'square_feet'}, axis = 1, inplace=True)\n",
    "    pbar.update(1)\n",
    "# =======================================================================\n",
    "    pbar.desc = ' Inserting data into casino table...'.rjust(35, '–')\n",
    "    casino_table = casino_table[['address', 'name', 'date', 'municipality',\n",
    "                  'adjusted_gross_receipt', 'square_feet', 'admissions',\n",
    "                   'state_share', 'local_share','latitude', 'longitude']]\n",
    "\n",
    "    casino_table.to_sql('casino', engine, if_exists='append', index=True)\n",
    "    pbar.desc = ' Complete'.rjust(35, '–')\n",
    "    pbar.update(1)\n",
    "# ======================================================================="
   ]
  },
  {
   "cell_type": "markdown",
   "metadata": {},
   "source": [
    "# Video Gambling Table"
   ]
  },
  {
   "cell_type": "code",
   "execution_count": 4,
   "metadata": {
    "ExecuteTime": {
     "end_time": "2020-12-20T21:12:43.302816Z",
     "start_time": "2020-12-20T21:09:45.068032Z"
    }
   },
   "outputs": [
    {
     "data": {
      "application/vnd.jupyter.widget-view+json": {
       "model_id": "dea630738ba1407eb8a410bcd4168589",
       "version_major": 2,
       "version_minor": 0
      },
      "text/plain": [
       "HBox(children=(FloatProgress(value=0.0, description='–––––––––––––––––––––––––––––––', layout=Layout(flex='2')…"
      ]
     },
     "metadata": {},
     "output_type": "display_data"
    },
    {
     "name": "stdout",
     "output_type": "stream",
     "text": [
      "\n"
     ]
    }
   ],
   "source": [
    "with tqdm(total=3, desc = ''.rjust(31, '–'), ncols=800) as pbar:\n",
    "    pbar.desc = ' Reading scraped data...'.rjust(31, '–')\n",
    "    data_path = os.path.join(os.pardir,'data', 'video_gambling')\n",
    "    file_path = [file for file in os.listdir(data_path) if file.endswith('.csv')][0]\n",
    "    video_gambling_path = os.path.join(data_path, file_path )\n",
    "    video_gambling_table = pd.read_csv(video_gambling_path)\n",
    "    pbar.update(1)\n",
    "    pbar.desc = ' Cleaning video gambling data...'.rjust(31)\n",
    "    video_gambling_table['date'] = pd.to_datetime(video_gambling_table.date, format='%B-%Y')\n",
    "    video_gambling_table = video_gambling_table.dropna()\n",
    "\n",
    "    video_gambling_table = video_gambling_table[['date','Establishment', 'License Number', 'Municipality', 'VGT Count',\n",
    "           'Amount Played', 'Amount Won', 'Net Wager', 'Funds In', 'Funds Out',\n",
    "           'Net Terminal Income', 'NTI Tax', 'State Share', 'Municipality Share'\n",
    "           ]]\n",
    "\n",
    "    column_edit = lambda x: x.lower().strip().replace(' ', '_').replace('-', '_')\n",
    "    video_gambling_table.columns = [column_edit(column) for column in video_gambling_table.columns]\n",
    "    video_gambling_table.rename({'vgt_count': 'terminal_count'}, axis = 1, inplace=True)\n",
    "    pbar.update(1)\n",
    "    pbar.desc = ' Inserting table into database...'.rjust(31, '–')\n",
    "    video_gambling_table.to_sql('video_gambling', engine, if_exists='append', index=True)\n",
    "    pbar.desc = ' Complete!'.rjust(31, '–')\n",
    "    pbar.update(1)"
   ]
  },
  {
   "cell_type": "markdown",
   "metadata": {},
   "source": [
    "# Municipality Table"
   ]
  },
  {
   "cell_type": "code",
   "execution_count": 14,
   "metadata": {
    "ExecuteTime": {
     "end_time": "2020-12-20T21:44:47.854069Z",
     "start_time": "2020-12-20T21:32:46.572555Z"
    }
   },
   "outputs": [
    {
     "data": {
      "application/vnd.jupyter.widget-view+json": {
       "model_id": "d4a5081541e549418d5cae2e9750f469",
       "version_major": 2,
       "version_minor": 0
      },
      "text/plain": [
       "HBox(children=(FloatProgress(value=0.0, description='                               ', layout=Layout(flex='2')…"
      ]
     },
     "metadata": {},
     "output_type": "display_data"
    },
    {
     "name": "stderr",
     "output_type": "stream",
     "text": [
      "/Users/joel/opt/anaconda3/lib/python3.7/site-packages/IPython/core/interactiveshell.py:3146: DtypeWarning: Columns (3,32,33,34,42) have mixed types.Specify dtype option on import or set low_memory=False.\n",
      "  interactivity=interactivity, compiler=compiler, result=result)\n",
      "/Users/joel/opt/anaconda3/lib/python3.7/site-packages/pandas/core/strings.py:2001: UserWarning: This pattern has match groups. To actually get the groups, use str.extract.\n",
      "  return func(self, *args, **kwargs)\n"
     ]
    },
    {
     "name": "stdout",
     "output_type": "stream",
     "text": [
      "\n"
     ]
    }
   ],
   "source": [
    "with tqdm(total=6, desc = ''.rjust(31), ncols=800) as pbar:\n",
    "\n",
    "    # ============================================================================\n",
    "    # Request census geo id dataset\n",
    "    pbar.desc = ' Requesting Census Geo Ids'.rjust(39, '–')\n",
    "    response = get('https://www2.census.gov/programs-surveys/acs/summary_file/2018/data/5_year_by_state/Illinois_All_Geographies_Not_Tracts_Block_Groups.zip')\n",
    "    pbar.desc = ' Reading response Bytes'.rjust(39, '–')\n",
    "    translated = BytesIO(response.content)\n",
    "    pbar.desc = ' Unzipping census data'.rjust(39)\n",
    "    zip_file = zipfile.ZipFile(translated)\n",
    "    csv_raw = zip_file.open('g20185il.csv')\n",
    "    pbar.desc = ' Reading id file'.rjust(39, '–')\n",
    "    municipality_ids = pd.read_csv(csv_raw, header=None)\n",
    "    municipality_ids = municipality_ids[municipality_ids.iloc[:,2] == 160]\n",
    "    pbar.update(1)\n",
    "    # ============================================================================\n",
    "    # Collect ids for municipalities\n",
    "    pbar.desc = ' Filtering for municipalities'.rjust(39, '–')\n",
    "    census_ids = {}\n",
    "    counties = video_gambling_table[video_gambling_table.municipality.str.contains('county', case=False)].index\n",
    "    municipalities = video_gambling_table.loc[[x for x in video_gambling_table.index if x not in counties]]\n",
    "    towns_unique = list(municipalities.municipality.unique())\n",
    "    towns_unique += [town for town in casino_table.municipality.unique() if town not in towns_unique]\n",
    "    pbar.desc = ' Matching Census ID to Municipality Name'.rjust(39, '–')\n",
    "    for town in towns_unique:\n",
    "        try:\n",
    "            search = municipality_ids[municipality_ids.iloc[:,49].str.contains(town, case=False)]\n",
    "            search  = search[~search.iloc[:,49].str.contains('CDP')]\n",
    "            id_ = search.iloc[:,48].values[0]\n",
    "            census_ids[town] = id_\n",
    "        except:\n",
    "            census_ids[town] = None\n",
    "    pbar.desc = ' Addressing alternate string formats'.rjust(39, '–')\n",
    "    error_cities = {'La Salle': 'lasalle',\n",
    "     'Lamoille': 'la moille',\n",
    "     'Windsor (Mercer)': 'windsor village' ,\n",
    "     'Windsor (Shelby)': 'windsor city',\n",
    "     'Leroy': 'le roy',\n",
    "     'Depue': 'de pue',\n",
    "     'Wilmington (Will)': 'wilmington city',\n",
    "     'Sainte Marie': 'ste. marie',\n",
    "     'Gulfport': 'Gulf port',\n",
    "     'Saint Elmo': 'St. Elmo',\n",
    "     'Whiteash': 'Whiteash',\n",
    "     'Wilmington (Greene)': 'wilmington village',\n",
    "     'Garden Prairie': 'Garden Prairie'}\n",
    "\n",
    "    for city in error_cities:\n",
    "        id_ = municipality_ids[municipality_ids.iloc[:,49].str.contains(error_cities[city], case=False)].iloc[:,48].values[0]\n",
    "        census_ids[city] = id_\n",
    "    pbar.desc = ' Finalizing municipal IDs'.rjust(39, '–')\n",
    "    municipal_table = pd.DataFrame()\n",
    "    municipal_table['name'] = towns_unique\n",
    "    municipal_table['id'] = municipal_table.name.map(census_ids)\n",
    "    pbar.update(1)\n",
    "    # ============================================================================\n",
    "    pbar.desc = ' Collecting coordinates'.rjust(39, '–')\n",
    "    def find_geo_data(municipality):\n",
    "\n",
    "        location = geolocator.geocode(f'{municipality}, Illinois')\n",
    "        if location:\n",
    "            return location.raw\n",
    "\n",
    "    town_geo = {}\n",
    "\n",
    "    for town in towns_unique:\n",
    "        town_geo[town] = find_geo_data(town)\n",
    "\n",
    "    def collect_coordinates(town):\n",
    "        return town_geo[town]['lat'], town_geo[town]['lon'], town_geo[town]['boundingbox']\n",
    "    \n",
    "    pbar.desc = ' Finalizing coordinates'.rjust(39, '–')\n",
    "    municipal_table['latitude'], municipal_table['longitude'], municipal_table['boundingbox'] = zip(*municipal_table.name.apply(collect_coordinates))\n",
    "    pbar.update(1)\n",
    "    # ============================================================================\n",
    "    pbar.desc = ' Collecting county data'.rjust(39, '–')\n",
    "    def county_info(row):\n",
    "        county_json = get(f'https://geo.fcc.gov/api/census/area?lat={row.latitude}&lon={row.longitude}&format=json').json()['results'][0]\n",
    "        county_fips = county_json['county_fips']\n",
    "        county_name = county_json['county_name']\n",
    "        return county_fips, county_name\n",
    "\n",
    "    municipal_table['county_fips'] = ''\n",
    "    municipal_table['county_name'] = ''\n",
    "    for idx, row in municipal_table.iterrows():\n",
    "        county_fips, county_name = county_info(row)\n",
    "        municipal_table.at[idx, 'county_fips'] = county_fips\n",
    "        municipal_table.at[idx, 'county_name'] = county_name\n",
    "    pbar.update(1)\n",
    "    # ============================================================================\n",
    "    pbar.desc = ' Identifying nearest casino'.rjust(39, '–')\n",
    "    closest_casinos = []\n",
    "    for idx, row in municipal_table.iterrows():\n",
    "        town_coor = (row.latitude, row.longitude)\n",
    "        distances = {}\n",
    "        for casino in casino_coordinates:\n",
    "            casino_coor = casino_coordinates[casino]\n",
    "            miles = geodesic(town_coor, casino_coor).miles\n",
    "            distances[casino] = miles\n",
    "        sort = sorted(distances.items(), key=lambda x: x[1])[0][0]\n",
    "        closest_casinos.append(sort)\n",
    "\n",
    "    municipal_table['nearest_casino'] = closest_casinos\n",
    "    pbar.update(1)\n",
    "    # ============================================================================\n",
    "    pbar.desc = 'Inserting table into database'.rjust(39, '–')\n",
    "    municipal_table = municipal_table[['name', 'id', 'nearest_casino','latitude', 'longitude', 'boundingbox', 'county_fips', 'county_name']]\n",
    "    municipal_table.rename({'id': 'geo_id'}, axis=1, inplace=True)\n",
    "    municipal_table.to_sql('municipality', engine, if_exists='replace', index=False)\n",
    "    pbar.desc = ' Complete!'.rjust(39)\n",
    "    pbar.update(1)"
   ]
  },
  {
   "cell_type": "code",
   "execution_count": 6,
   "metadata": {
    "ExecuteTime": {
     "end_time": "2020-12-21T16:50:48.309903Z",
     "start_time": "2020-12-21T16:50:48.255012Z"
    }
   },
   "outputs": [],
   "source": [
    "munic = pd.read_sql('''select * from municipality;''', engine)\n",
    "census_ids = munic[['name', 'geo_id']].set_index('name').to_dict()['geo_id']\n",
    "\n"
   ]
  },
  {
   "cell_type": "markdown",
   "metadata": {},
   "source": [
    "# Census Data"
   ]
  },
  {
   "cell_type": "code",
   "execution_count": 7,
   "metadata": {
    "ExecuteTime": {
     "end_time": "2020-12-21T16:50:48.873024Z",
     "start_time": "2020-12-21T16:50:48.869071Z"
    }
   },
   "outputs": [],
   "source": [
    "variables_path = os.path.join(os.pardir,'data', 'census_variables.json')\n",
    "with open(variables_path, 'r') as file:\n",
    "    variables = json.load(file)"
   ]
  },
  {
   "cell_type": "markdown",
   "metadata": {},
   "source": [
    "### Add variable lookup table"
   ]
  },
  {
   "cell_type": "code",
   "execution_count": 13,
   "metadata": {
    "ExecuteTime": {
     "end_time": "2020-12-21T16:15:14.189326Z",
     "start_time": "2020-12-21T16:15:13.703177Z"
    }
   },
   "outputs": [],
   "source": [
    "lookup = pd.DataFrame(variables, index=[0]).T.reset_index()\n",
    "lookup.columns = ['variable', 'description']\n",
    "lookup['variable'] = lookup.variable.apply(lambda x: x.upper())\n",
    "\n",
    "lookup.to_sql('demographics_lookup', engine, if_exists='replace')\n",
    "\n"
   ]
  },
  {
   "cell_type": "markdown",
   "metadata": {},
   "source": [
    "### Create Demographics Table"
   ]
  },
  {
   "cell_type": "code",
   "execution_count": 7,
   "metadata": {
    "ExecuteTime": {
     "end_time": "2020-12-21T16:34:11.757339Z",
     "start_time": "2020-12-21T16:33:40.014019Z"
    }
   },
   "outputs": [
    {
     "data": {
      "text/plain": [
       "<sqlalchemy.engine.result.ResultProxy at 0x7fdbdce2fd90>"
      ]
     },
     "execution_count": 7,
     "metadata": {},
     "output_type": "execute_result"
    }
   ],
   "source": [
    "engine.execute('drop table if exists demographics;')"
   ]
  },
  {
   "cell_type": "code",
   "execution_count": 17,
   "metadata": {
    "ExecuteTime": {
     "end_time": "2020-12-21T18:34:07.208416Z",
     "start_time": "2020-12-21T16:53:21.797235Z"
    }
   },
   "outputs": [
    {
     "data": {
      "application/vnd.jupyter.widget-view+json": {
       "model_id": "854db8938aa745fd9717644fa6c3bc00",
       "version_major": 2,
       "version_minor": 0
      },
      "text/plain": [
       "HBox(children=(FloatProgress(value=0.0, description='2012', max=981.0, style=ProgressStyle(description_width='…"
      ]
     },
     "metadata": {},
     "output_type": "display_data"
    },
    {
     "name": "stdout",
     "output_type": "stream",
     "text": [
      "\n"
     ]
    },
    {
     "data": {
      "application/vnd.jupyter.widget-view+json": {
       "model_id": "b13a73cf17bd41f6af611a9a8c38135f",
       "version_major": 2,
       "version_minor": 0
      },
      "text/plain": [
       "HBox(children=(FloatProgress(value=0.0, description='2013', max=981.0, style=ProgressStyle(description_width='…"
      ]
     },
     "metadata": {},
     "output_type": "display_data"
    },
    {
     "name": "stdout",
     "output_type": "stream",
     "text": [
      "\n"
     ]
    },
    {
     "data": {
      "application/vnd.jupyter.widget-view+json": {
       "model_id": "8b53321210b24a63bc23df44073e214a",
       "version_major": 2,
       "version_minor": 0
      },
      "text/plain": [
       "HBox(children=(FloatProgress(value=0.0, description='2014', max=981.0, style=ProgressStyle(description_width='…"
      ]
     },
     "metadata": {},
     "output_type": "display_data"
    },
    {
     "name": "stdout",
     "output_type": "stream",
     "text": [
      "\n"
     ]
    },
    {
     "data": {
      "application/vnd.jupyter.widget-view+json": {
       "model_id": "04507fc948fa429b980f167c2c50df68",
       "version_major": 2,
       "version_minor": 0
      },
      "text/plain": [
       "HBox(children=(FloatProgress(value=0.0, description='2015', max=981.0, style=ProgressStyle(description_width='…"
      ]
     },
     "metadata": {},
     "output_type": "display_data"
    },
    {
     "name": "stdout",
     "output_type": "stream",
     "text": [
      "\n"
     ]
    },
    {
     "data": {
      "application/vnd.jupyter.widget-view+json": {
       "model_id": "cf0dc1365307459b849bd582debda411",
       "version_major": 2,
       "version_minor": 0
      },
      "text/plain": [
       "HBox(children=(FloatProgress(value=0.0, description='2016', max=981.0, style=ProgressStyle(description_width='…"
      ]
     },
     "metadata": {},
     "output_type": "display_data"
    },
    {
     "name": "stdout",
     "output_type": "stream",
     "text": [
      "\n"
     ]
    },
    {
     "data": {
      "application/vnd.jupyter.widget-view+json": {
       "model_id": "285bf9147b154b8e991a0e6cac56c547",
       "version_major": 2,
       "version_minor": 0
      },
      "text/plain": [
       "HBox(children=(FloatProgress(value=0.0, description='2017', max=981.0, style=ProgressStyle(description_width='…"
      ]
     },
     "metadata": {},
     "output_type": "display_data"
    },
    {
     "name": "stdout",
     "output_type": "stream",
     "text": [
      "\n"
     ]
    },
    {
     "data": {
      "application/vnd.jupyter.widget-view+json": {
       "model_id": "517cbb7293a0449ea951b2b116b0849b",
       "version_major": 2,
       "version_minor": 0
      },
      "text/plain": [
       "HBox(children=(FloatProgress(value=0.0, description='2018', max=981.0, style=ProgressStyle(description_width='…"
      ]
     },
     "metadata": {},
     "output_type": "display_data"
    },
    {
     "name": "stdout",
     "output_type": "stream",
     "text": [
      "\n"
     ]
    }
   ],
   "source": [
    "variable_names = list(variables)\n",
    "variable_names.reverse()\n",
    "count = 0\n",
    "errors = {}\n",
    "data = pd.DataFrame()\n",
    "for year in range(2012, 2019):\n",
    "    with tqdm(total=len(census_ids)-1, desc=str(year)) as pbar:\n",
    "        for idx in range(len(census_ids)):\n",
    "            town = list(census_ids)[idx]\n",
    "            try:\n",
    "                id_ = census_ids[town][-5:]\n",
    "                if id_ == '67158':\n",
    "                    continue\n",
    "                geo = censusdata.censusgeo([('state', '17'), ('place', id_)])\n",
    "                frame = censusdata.download('acs5', year, geo, variable_names, key='ef2b118b032f366e377ba482a7e9cdbc8cbfd617')\n",
    "                frame['geo_id'] = census_ids[town]\n",
    "                frame['municipality'] = town\n",
    "                frame['year'] = year\n",
    "                frame = frame[['geo_id','municipality', 'year'] + variable_names]\n",
    "                frame.index = [count]\n",
    "                data = data.append(frame)\n",
    "                count +=1 \n",
    "                pbar.update(1)\n",
    "            except:\n",
    "                pbar.write(f'Error thrown for year {year}')\n",
    "                pbar.update(1)\n",
    "                continue"
   ]
  },
  {
   "cell_type": "code",
   "execution_count": 19,
   "metadata": {
    "ExecuteTime": {
     "end_time": "2020-12-21T18:36:56.347821Z",
     "start_time": "2020-12-21T18:36:54.164731Z"
    }
   },
   "outputs": [],
   "source": [
    "data.to_sql('demographics', engine, if_exists='replace')"
   ]
  },
  {
   "cell_type": "code",
   "execution_count": null,
   "metadata": {},
   "outputs": [],
   "source": []
  }
 ],
 "metadata": {
  "kernelspec": {
   "display_name": "Python 3",
   "language": "python",
   "name": "python3"
  },
  "language_info": {
   "codemirror_mode": {
    "name": "ipython",
    "version": 3
   },
   "file_extension": ".py",
   "mimetype": "text/x-python",
   "name": "python",
   "nbconvert_exporter": "python",
   "pygments_lexer": "ipython3",
   "version": "3.7.7"
  },
  "toc": {
   "base_numbering": 1,
   "nav_menu": {},
   "number_sections": false,
   "sideBar": true,
   "skip_h1_title": true,
   "title_cell": "Table of Contents",
   "title_sidebar": "Contents",
   "toc_cell": false,
   "toc_position": {},
   "toc_section_display": true,
   "toc_window_display": false
  },
  "varInspector": {
   "cols": {
    "lenName": 16,
    "lenType": 16,
    "lenVar": 40
   },
   "kernels_config": {
    "python": {
     "delete_cmd_postfix": "",
     "delete_cmd_prefix": "del ",
     "library": "var_list.py",
     "varRefreshCmd": "print(var_dic_list())"
    },
    "r": {
     "delete_cmd_postfix": ") ",
     "delete_cmd_prefix": "rm(",
     "library": "var_list.r",
     "varRefreshCmd": "cat(var_dic_list()) "
    }
   },
   "types_to_exclude": [
    "module",
    "function",
    "builtin_function_or_method",
    "instance",
    "_Feature"
   ],
   "window_display": false
  }
 },
 "nbformat": 4,
 "nbformat_minor": 4
}
