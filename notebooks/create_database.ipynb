{
 "cells": [
  {
   "cell_type": "markdown",
   "metadata": {},
   "source": [
    "# Notebook Purpose\n",
    "\n",
    "This notebook serves as documented walkthrough for the creation of the `illinois-gambling` postgresql database.\n",
    "\n",
    "### Data Sources\n",
    "\n",
    "This database contains data from the Illinois Gaming Board's monthly reports for both [Video Gambling](https://www.igb.illinois.gov/VideoReports.aspx) and [Casino Gambling](https://www.igb.illinois.gov/CasinoReports.aspx) as well as demographic data for each Illinois municipality from the 5 year American Community Survey.\n",
    "\n",
    "<center><img src=\"../static/schema.png\" width=\"1000\"></center>"
   ]
  },
  {
   "cell_type": "code",
   "execution_count": 2,
   "metadata": {
    "ExecuteTime": {
     "end_time": "2021-02-01T19:59:44.025259Z",
     "start_time": "2021-02-01T19:59:42.708164Z"
    }
   },
   "outputs": [],
   "source": [
    "import sys\n",
    "sys.path.append('..')\n",
    "import pandas as pd\n",
    "import os\n",
    "import numpy as np\n",
    "from geopy import geocoders  \n",
    "import matplotlib.pyplot as plt\n",
    "from io import BytesIO\n",
    "from geopy.geocoders import Nominatim\n",
    "import psycopg2\n",
    "from requests import get\n",
    "import zipfile\n",
    "import censusdata\n",
    "import json\n",
    "from geopy.distance import geodesic\n",
    "from sqlalchemy import create_engine\n",
    "from tqdm.notebook import tqdm\n",
    "geolocator = Nominatim(user_agent='Illinois Gambling')"
   ]
  },
  {
   "cell_type": "markdown",
   "metadata": {},
   "source": [
    "# Create Database"
   ]
  },
  {
   "cell_type": "markdown",
   "metadata": {
    "ExecuteTime": {
     "end_time": "2020-12-20T22:59:28.058648Z",
     "start_time": "2020-12-20T22:59:27.972977Z"
    },
    "run_control": {
     "marked": false
    }
   },
   "source": [
    "Connect to postgresql"
   ]
  },
  {
   "cell_type": "code",
   "execution_count": 4,
   "metadata": {
    "ExecuteTime": {
     "end_time": "2021-02-01T19:59:45.888329Z",
     "start_time": "2021-02-01T19:59:45.875940Z"
    },
    "run_control": {
     "marked": false
    }
   },
   "outputs": [],
   "source": [
    "conn = psycopg2.connect(dbname=\"postgres\")\n",
    "cursor = conn.cursor()"
   ]
  },
  {
   "cell_type": "markdown",
   "metadata": {
    "ExecuteTime": {
     "end_time": "2020-12-20T22:59:28.058648Z",
     "start_time": "2020-12-20T22:59:27.972977Z"
    },
    "run_control": {
     "marked": false
    }
   },
   "source": [
    "Set configurations "
   ]
  },
  {
   "cell_type": "code",
   "execution_count": 5,
   "metadata": {
    "ExecuteTime": {
     "end_time": "2021-02-01T19:59:46.658869Z",
     "start_time": "2021-02-01T19:59:46.656529Z"
    },
    "run_control": {
     "marked": false
    }
   },
   "outputs": [],
   "source": [
    "conn.autocommit = True \n",
    "conn.set_isolation_level(0)"
   ]
  },
  {
   "cell_type": "markdown",
   "metadata": {
    "ExecuteTime": {
     "end_time": "2020-12-20T22:59:28.058648Z",
     "start_time": "2020-12-20T22:59:27.972977Z"
    },
    "run_control": {
     "marked": false
    }
   },
   "source": [
    "If creating the database from scratch, uncomment the code below to drop the database if it exists and create an empty `illinois-gaming` database."
   ]
  },
  {
   "cell_type": "code",
   "execution_count": 4,
   "metadata": {
    "ExecuteTime": {
     "end_time": "2021-02-01T19:59:48.025591Z",
     "start_time": "2021-02-01T19:59:47.836231Z"
    },
    "run_control": {
     "marked": false
    }
   },
   "outputs": [],
   "source": [
    "# cursor.execute('DROP DATABASE IF EXISTS illinois_gambling;')\n",
    "# cursor.execute('CREATE DATABASE illinois_gambling;')\n",
    "# conn.close()"
   ]
  },
  {
   "cell_type": "markdown",
   "metadata": {
    "ExecuteTime": {
     "end_time": "2020-12-20T22:59:28.058648Z",
     "start_time": "2020-12-20T22:59:27.972977Z"
    },
    "run_control": {
     "marked": false
    }
   },
   "source": [
    "Now that the database is created, open a connection to the `illinois-gambling`  database"
   ]
  },
  {
   "cell_type": "code",
   "execution_count": 6,
   "metadata": {
    "ExecuteTime": {
     "end_time": "2021-02-01T19:59:49.286518Z",
     "start_time": "2021-02-01T19:59:49.251364Z"
    },
    "run_control": {
     "marked": false
    }
   },
   "outputs": [],
   "source": [
    "conn = psycopg2.connect(dbname=\"illinois_gambling\")\n",
    "user = conn.get_dsn_parameters()['user']\n",
    "port = conn.get_dsn_parameters()['port'] \n",
    "# Create sqlalchemy engine to streamline the sql process\n",
    "engine = create_engine(f'postgresql+psycopg2://{user}:@localhost:{port}/illinois_gambling')"
   ]
  },
  {
   "cell_type": "markdown",
   "metadata": {},
   "source": [
    "# Casino Table"
   ]
  },
  {
   "cell_type": "code",
   "execution_count": 6,
   "metadata": {
    "ExecuteTime": {
     "end_time": "2021-02-01T19:59:55.719470Z",
     "start_time": "2021-02-01T19:59:50.926602Z"
    }
   },
   "outputs": [
    {
     "data": {
      "application/vnd.jupyter.widget-view+json": {
       "model_id": "39770195373a4b6db894b3e757cd9bc1",
       "version_major": 2,
       "version_minor": 0
      },
      "text/plain": [
       "HBox(children=(FloatProgress(value=0.0, description='–––––––––––––––––––––––––––––––––––', layout=Layout(flex=…"
      ]
     },
     "metadata": {},
     "output_type": "display_data"
    },
    {
     "name": "stdout",
     "output_type": "stream",
     "text": [
      "\n"
     ]
    }
   ],
   "source": [
    "with tqdm(total = 3, desc = ''.rjust(35, '–'), ncols=800) as pbar:\n",
    "    pbar.desc = ' Reading scraped data...'.rjust(35, '–')\n",
    "    # Create import path for the casino gambling data\n",
    "    casino_path = os.path.join(os.pardir,'data', 'casino_gambling', 'casino_data.csv')\n",
    "    # Read in csv file\n",
    "    casino_table = pd.read_csv(casino_path)\n",
    "    # Change date column from string to datetime\n",
    "    casino_table['date'] = pd.to_datetime(casino_table.date)\n",
    "    pbar.update(1)\n",
    "    \n",
    "# =======================================================================\n",
    "    pbar.desc = ' Cleaning casino data...'.rjust(35, '–')\n",
    "    # Data Cleaning: \n",
    "    # The naming of casinos is somewhat inconsistent.\n",
    "    # Below, we map names that deviate from the majority\n",
    "    # so they are consistent across observations\n",
    "    CASINO_REFORMAT = {'Alton': 'ALTON - ARGOSY',\n",
    "                       'Argosy Casino Alton': 'ALTON - ARGOSY',\n",
    "                    'East Peoria': 'E. PEORIA - PAR-A-DICE', \n",
    "                       'Par-A-Dice Hotel Casino': 'E. PEORIA - PAR-A-DICE',\n",
    "                    'Rock Island': 'ROCK ISLAND - JUMERS', \n",
    "                       \"Jumer's Casino & Hotel\": 'ROCK ISLAND - JUMERS',\n",
    "                     'Joliet - Empress': 'JOLIET - Argosy Empress Casino', \n",
    "                     'Metropolis': 'METROPOLIS - HARRAHS',\n",
    "                    \"Joliet - Harrah's\": 'JOLIET - HARRAHS',\n",
    "                    \"Harrah's Joliet Casino & Hotel\": 'JOLIET - HARRAHS',\n",
    "                    'Aurora': 'AURORA - HOLLYWOOD', \n",
    "                    'Hollywood Casino Aurora': 'AURORA - HOLLYWOOD',\n",
    "                    'E  St  Louis': 'E. ST. LOUIS - CASINO QUEEN',\n",
    "                    'E St  Louis': 'E. ST. LOUIS - CASINO QUEEN',\n",
    "                    'DraftKings at Casino Queen': 'E. ST. LOUIS - CASINO QUEEN',\n",
    "                    'Elgin': 'ELGIN - GRAND VICTORIA',\n",
    "                    'Grand Victoria Casino': 'ELGIN - GRAND VICTORIA',\n",
    "                    'Joliet - Hollywood': 'JOLIET - HOLLYWOOD',\n",
    "                       'Hollywood Casino Joliet': 'JOLIET - HOLLYWOOD',\n",
    "                    'Des Plaines': 'DES PLAINES - RIVERS CASINO', \n",
    "                       'Rivers Casino': 'DES PLAINES - RIVERS CASINO',\n",
    "                    'METROPOLIS - HARRAHS*': 'METROPOLIS - HARRAHS',\n",
    "                      \"Harrah's Metropolis Casino\": 'METROPOLIS - HARRAHS'}\n",
    "\n",
    "    def casino_map(casino):\n",
    "        if casino in CASINO_REFORMAT:\n",
    "            return CASINO_REFORMAT[casino]\n",
    "        else:\n",
    "            return casino\n",
    "\n",
    "    casino_table['casino'] = casino_table.casino.apply(casino_map)\n",
    "\n",
    "    # Data Cleaning:\n",
    "    # To make the columns more informative, we seperate the \n",
    "    # name of the casino from the name of the municipality.\n",
    "    casino_table['municipality'] = casino_table.casino.apply(lambda x: x.split(' - ')[0])\n",
    "    \n",
    "#     def find_error(text):\n",
    "#         try:\n",
    "#             return text.split(' - ')[1]\n",
    "#         except:\n",
    "#             print(text)\n",
    "#             ValueError('Oops')\n",
    "            \n",
    "    casino_table.casino.apply(find_error)\n",
    "    # casino_table['casino'] = casino_table.casino.apply(lambda x: x.split(' - ')[1])\n",
    "    casino_table['municipality'] = casino_table.municipality.apply(lambda x: x.title().strip().replace('E.', 'East'))\n",
    "# =======================================================================\n",
    "    pbar.desc = ' Searching for geo data'.rjust(35, '–')\n",
    "    # The location of the casino is useful information\n",
    "    # for measuring the relationship between video gambling\n",
    "    # and casino performance. The addresses were searched manually \n",
    "    # Using a google search. While it would be valuable to have a \n",
    "    # dynamic way of fetching this information, it is unlikely that\n",
    "    # these data points will change. \n",
    "    casino_addresses = {'Alton': '1 Piasa St, Alton, IL 62002',\n",
    "    'East Peoria':'21 Blackjack Blvd, East Peoria, IL 61611',\n",
    "    'Rock Island':'777 Jumer Dr, Rock Island, IL 61201',\n",
    "    'Joliet': '777 Hollywood Blvd, Joliet, IL 60436',\n",
    "    'Aurora':'100 E Front St, Metropolis, IL 62960',\n",
    "    'East St. Louis': '200 S Front St, East St Louis, IL 62201',\n",
    "    'Elgin': '250 S Grove Ave, Elgin, IL 60120',\n",
    "    'Des Plaines':'3000 S River Rd, Des Plaines, IL 60018',\n",
    "    'Metropolis': '100 E Front St, Metropolis, IL 62960'}\n",
    "\n",
    "    casino_table['address'] = casino_table.municipality.map(casino_addresses)\n",
    "\n",
    "    # The two columns below are aggregates of other columns. Because these numbers are \n",
    "    # easily calculable from the existing data, they are dropped. \n",
    "    # casino_table.drop(['agr_per_square_foot', 'agr_per_admission'], axis = 1, inplace=True)\n",
    "\n",
    "    def coordinates_from_address(address):\n",
    "\n",
    "        location = geolocator.geocode(address)\n",
    "        if location:\n",
    "            return location.latitude, location.longitude\n",
    "\n",
    "    coordinates_from_address(casino_table.address[0])\n",
    "\n",
    "    casino_coordinates = {}\n",
    "    for address in casino_table.address.unique():\n",
    "        try:\n",
    "            latitude, longitude = coordinates_from_address(address)\n",
    "            casino_coordinates[address] = (latitude, longitude)\n",
    "        except:\n",
    "            continue\n",
    "    pbar.desc = ' Matching coordinates...'.rjust(35, '–')\n",
    "    casino_coordinates['777 Hollywood Blvd, Joliet, IL 60436'] = (41.479289, -88.145328)\n",
    "    casino_table['latitude'] = casino_table.address.apply(lambda x: casino_coordinates[x][0])\n",
    "    casino_table['longitude'] = casino_table.address.apply(lambda x: casino_coordinates[x][1])\n",
    "\n",
    "\n",
    "    casino_table.rename({'casino': 'name', 'agr': 'adjusted_gross_receipt',\n",
    "                        'casino_square_feet': 'square_feet'}, axis = 1, inplace=True)\n",
    "    pbar.update(1)\n",
    "# =======================================================================\n",
    "    pbar.desc = ' Inserting data into casino table...'.rjust(35, '–')\n",
    "    casino_table = casino_table[['address', 'name', 'date', 'municipality',\n",
    "                  'adjusted_gross_receipt', 'square_feet', 'admissions',\n",
    "                   'state_share', 'local_share','latitude', 'longitude']]\n",
    "\n",
    "    casino_table.to_sql('casino', engine, if_exists='append', index=True)\n",
    "    pbar.desc = ' Complete'.rjust(35, '–')\n",
    "    pbar.update(1)\n",
    "# ======================================================================="
   ]
  },
  {
   "cell_type": "markdown",
   "metadata": {},
   "source": [
    "# Video Gambling Table"
   ]
  },
  {
   "cell_type": "code",
   "execution_count": 7,
   "metadata": {
    "ExecuteTime": {
     "end_time": "2021-02-01T20:01:11.191200Z",
     "start_time": "2021-02-01T19:59:59.133545Z"
    }
   },
   "outputs": [
    {
     "data": {
      "application/vnd.jupyter.widget-view+json": {
       "model_id": "5529d2d6d51a43f0a1a34f9a855e27ce",
       "version_major": 2,
       "version_minor": 0
      },
      "text/plain": [
       "HBox(children=(FloatProgress(value=0.0, description='–––––––––––––––––––––––––––––––', layout=Layout(flex='2')…"
      ]
     },
     "metadata": {},
     "output_type": "display_data"
    },
    {
     "name": "stdout",
     "output_type": "stream",
     "text": [
      "\n"
     ]
    }
   ],
   "source": [
    "with tqdm(total=3, desc = ''.rjust(31, '–'), ncols=800) as pbar:\n",
    "    pbar.desc = ' Reading scraped data...'.rjust(31, '–')\n",
    "    data_path = os.path.join(os.pardir,'data', 'video_gambling')\n",
    "    file_path = [file for file in os.listdir(data_path) if file.endswith('.csv')][0]\n",
    "    video_gambling_path = os.path.join(data_path, file_path )\n",
    "    video_gambling_table = pd.read_csv(video_gambling_path)\n",
    "    pbar.update(1)\n",
    "    pbar.desc = ' Cleaning video gambling data...'.rjust(31)\n",
    "    video_gambling_table['date'] = pd.to_datetime(video_gambling_table.date, format='%B-%Y')\n",
    "    video_gambling_table = video_gambling_table.dropna()\n",
    "\n",
    "    video_gambling_table = video_gambling_table[['date','Establishment', 'License Number', 'Municipality', 'VGT Count',\n",
    "           'Amount Played', 'Amount Won', 'Net Wager', 'Funds In', 'Funds Out',\n",
    "           'Net Terminal Income', 'NTI Tax', 'State Share', 'Municipality Share'\n",
    "           ]]\n",
    "\n",
    "    column_edit = lambda x: x.lower().strip().replace(' ', '_').replace('-', '_')\n",
    "    video_gambling_table.columns = [column_edit(column) for column in video_gambling_table.columns]\n",
    "    video_gambling_table.rename({'vgt_count': 'terminal_count'}, axis = 1, inplace=True)\n",
    "    pbar.update(1)\n",
    "    pbar.desc = ' Inserting table into database...'.rjust(31, '–')\n",
    "    video_gambling_table.to_sql('video_gambling', engine, if_exists='append', index=True)\n",
    "    pbar.desc = ' Complete!'.rjust(31, '–')\n",
    "    pbar.update(1)"
   ]
  },
  {
   "cell_type": "markdown",
   "metadata": {},
   "source": [
    "# Municipality Table"
   ]
  },
  {
   "cell_type": "code",
   "execution_count": 11,
   "metadata": {
    "ExecuteTime": {
     "end_time": "2021-02-01T22:51:47.724368Z",
     "start_time": "2021-02-01T22:30:58.552554Z"
    }
   },
   "outputs": [
    {
     "data": {
      "application/vnd.jupyter.widget-view+json": {
       "model_id": "f1f2b75cb65a4d6682d4189c9f1b9d11",
       "version_major": 2,
       "version_minor": 0
      },
      "text/plain": [
       "HBox(children=(FloatProgress(value=0.0, description='                               ', layout=Layout(flex='2')…"
      ]
     },
     "metadata": {},
     "output_type": "display_data"
    },
    {
     "name": "stderr",
     "output_type": "stream",
     "text": [
      "/Users/joel/opt/anaconda3/lib/python3.7/site-packages/IPython/core/interactiveshell.py:3146: DtypeWarning: Columns (3,32,33,34,42) have mixed types.Specify dtype option on import or set low_memory=False.\n",
      "  interactivity=interactivity, compiler=compiler, result=result)\n",
      "/Users/joel/opt/anaconda3/lib/python3.7/site-packages/pandas/core/strings.py:2001: UserWarning: This pattern has match groups. To actually get the groups, use str.extract.\n",
      "  return func(self, *args, **kwargs)\n"
     ]
    },
    {
     "name": "stdout",
     "output_type": "stream",
     "text": [
      "\n"
     ]
    }
   ],
   "source": [
    "with tqdm(total=6, desc = ''.rjust(31), ncols=800) as pbar:\n",
    "    # ============================================================================\n",
    "    # Importing dataset for tracking whether or not a municipality has\n",
    "    # prohibited video gambling\n",
    "    prohibition = pd.read_csv('../data/MunicipalityList.csv')\n",
    "    prohibition.dropna(subset=['Name'],inplace=True)\n",
    "    # ============================================================================\n",
    "    # Request census geo id dataset\n",
    "    pbar.desc = ' Requesting Census Geo Ids'.rjust(39, '–')\n",
    "    response = get('https://www2.census.gov/programs-surveys/acs/summary_file/2018/data/5_year_by_state/Illinois_All_Geographies_Not_Tracts_Block_Groups.zip')\n",
    "    pbar.desc = ' Reading response Bytes'.rjust(39, '–')\n",
    "    translated = BytesIO(response.content)\n",
    "    pbar.desc = ' Unzipping census data'.rjust(39)\n",
    "    zip_file = zipfile.ZipFile(translated)\n",
    "    csv_raw = zip_file.open('g20185il.csv')\n",
    "    pbar.desc = ' Reading id file'.rjust(39, '–')\n",
    "    municipality_ids = pd.read_csv(csv_raw, header=None)\n",
    "    municipality_ids = municipality_ids[municipality_ids.iloc[:,2] == 160]\n",
    "    pbar.update(1)\n",
    "    # ============================================================================\n",
    "    # Collect ids for municipalities\n",
    "    pbar.desc = ' Filtering for municipalities'.rjust(39, '–')\n",
    "    census_ids = {}\n",
    "    counties = video_gambling_table[video_gambling_table.municipality.str.contains('county', case=False)].index\n",
    "    municipalities = video_gambling_table.loc[[x for x in video_gambling_table.index if x not in counties]]\n",
    "    towns_unique = list(municipalities.municipality.unique())\n",
    "    towns_unique += [town for town in casino_table.municipality.unique() if town not in towns_unique]\n",
    "    towns_unique += [town for town in prohibition.Name.unique() if town not in towns_unique]\n",
    "    # ============================================================================\n",
    "    # Collecting Census Data\n",
    "    pbar.desc = ' Matching Census ID to Municipality Name'.rjust(39, '–')\n",
    "    for town in towns_unique:\n",
    "        try:\n",
    "            search = municipality_ids[municipality_ids.iloc[:,49].str.contains(town, case=False)]\n",
    "            search  = search[~search.iloc[:,49].str.contains('CDP')]\n",
    "            id_ = search.iloc[:,48].values[0]\n",
    "            census_ids[town] = id_\n",
    "        except:\n",
    "            census_ids[town] = None\n",
    "    pbar.desc = ' Addressing alternate string formats'.rjust(39, '–')\n",
    "    error_cities = {'La Salle': 'lasalle',\n",
    "     'Lamoille': 'la moille',\n",
    "     'Windsor (Mercer)': 'windsor village' ,\n",
    "     'Windsor (Shelby)': 'windsor city',\n",
    "     'Leroy': 'le roy',\n",
    "     'Depue': 'de pue',\n",
    "     'Wilmington (Will)': 'wilmington city',\n",
    "     'Sainte Marie': 'ste. marie',\n",
    "     'Gulfport': 'Gulf port',\n",
    "     'Saint Elmo': 'St. Elmo',\n",
    "     'Whiteash': 'Whiteash',\n",
    "     'Wilmington (Greene)': 'wilmington village',\n",
    "     'Garden Prairie': 'Garden Prairie'}\n",
    "\n",
    "    for city in error_cities:\n",
    "        id_ = municipality_ids[municipality_ids.iloc[:,49].str.contains(error_cities[city], case=False)].iloc[:,48].values[0]\n",
    "        census_ids[city] = id_\n",
    "    pbar.desc = ' Finalizing municipal IDs'.rjust(39, '–')\n",
    "    municipal_table = pd.DataFrame()\n",
    "    municipal_table['name'] = towns_unique\n",
    "    municipal_table['id'] = municipal_table.name.map(census_ids)\n",
    "    municipal_table.dropna(subset=['id'], inplace=True)\n",
    "    pbar.update(1)\n",
    "    # ============================================================================\n",
    "    pbar.desc = ' Collecting coordinates'.rjust(39, '–')\n",
    "    def find_geo_data(municipality):\n",
    "\n",
    "        location = geolocator.geocode(f'{municipality}, Illinois')\n",
    "        if location:\n",
    "            return location.raw\n",
    "\n",
    "    town_geo = {}\n",
    "\n",
    "    for town in towns_unique:\n",
    "        town_geo[town] = find_geo_data(town)\n",
    "\n",
    "    def collect_coordinates(town):\n",
    "        return town_geo[town]['lat'], town_geo[town]['lon'], town_geo[town]['boundingbox']\n",
    "    \n",
    "    pbar.desc = ' Finalizing coordinates'.rjust(39, '–')\n",
    "    municipal_table['latitude'], municipal_table['longitude'], municipal_table['boundingbox'] = zip(*municipal_table.name.apply(collect_coordinates))\n",
    "    pbar.update(1)\n",
    "    # ============================================================================\n",
    "    pbar.desc = ' Collecting county data'.rjust(39, '–')\n",
    "    def county_info(row):\n",
    "        county_json = get(f'https://geo.fcc.gov/api/census/area?lat={row.latitude}&lon={row.longitude}&format=json').json()['results'][0]\n",
    "        county_fips = county_json['county_fips']\n",
    "        county_name = county_json['county_name']\n",
    "        return county_fips, county_name\n",
    "\n",
    "    municipal_table['county_fips'] = ''\n",
    "    municipal_table['county_name'] = ''\n",
    "    for idx, row in municipal_table.iterrows():\n",
    "        county_fips, county_name = county_info(row)\n",
    "        municipal_table.at[idx, 'county_fips'] = county_fips\n",
    "        municipal_table.at[idx, 'county_name'] = county_name\n",
    "    pbar.update(1)\n",
    "    # ============================================================================\n",
    "    pbar.desc = ' Identifying nearest casino'.rjust(39, '–')\n",
    "    closest_casinos = []\n",
    "    distance_from_casino = []\n",
    "    for idx, row in municipal_table.iterrows():\n",
    "        town_coor = (row.latitude, row.longitude)\n",
    "        distances = {}\n",
    "        for casino in casino_coordinates:\n",
    "            casino_coor = casino_coordinates[casino]\n",
    "            miles = geodesic(town_coor, casino_coor).miles\n",
    "            distances[casino] = miles\n",
    "            # ADD DISTANC INFO\n",
    "        sort = sorted(distances.items(), key=lambda x: x[1])[0][0]\n",
    "        closest_casinos.append(sort)\n",
    "\n",
    "    municipal_table['nearest_casino'] = closest_casinos\n",
    "    pbar.update(1)\n",
    "    # ============================================================================\n",
    "    pbar.desc = 'Inserting table into database'.rjust(39, '–')\n",
    "    municipal_table = municipal_table[['name', 'id', 'nearest_casino','latitude', 'longitude', 'boundingbox', 'county_fips', 'county_name']]\n",
    "    municipal_table.rename({'id': 'geo_id'}, axis=1, inplace=True)\n",
    "    municipal_table.to_sql('municipality', engine, if_exists='replace', index=False)\n",
    "    pbar.desc = ' Complete!'.rjust(39)\n",
    "    pbar.update(1)"
   ]
  },
  {
   "cell_type": "code",
   "execution_count": 7,
   "metadata": {
    "ExecuteTime": {
     "end_time": "2021-02-02T00:03:49.760513Z",
     "start_time": "2021-02-02T00:03:49.628618Z"
    }
   },
   "outputs": [],
   "source": [
    "munic = pd.read_sql('''select * from municipality;''', engine)\n",
    "census_ids = munic[['name', 'geo_id']].set_index('name').to_dict()['geo_id']\n",
    "\n"
   ]
  },
  {
   "cell_type": "markdown",
   "metadata": {},
   "source": [
    "(1-(U2R/Total Migration / total population/rural population) + (R2U/Total Migration/total population/urban population)) * 2"
   ]
  },
  {
   "cell_type": "code",
   "execution_count": 127,
   "metadata": {},
   "outputs": [],
   "source": [
    "def weight_counties(lp_migration, hp_migration, lp_population, hp_population):\n",
    "    total_migration = lp_migration + hp_migration\n",
    "    total_population = lp_population + hp_population\n",
    "    h2l = (lp_migration/total_migration/(total_population/lp_population))\n",
    "    l2h = (hp_migration/total_migration/(total_population/hp_population))\n",
    "    return (1- (h2l + l2h))"
   ]
  },
  {
   "cell_type": "code",
   "execution_count": 175,
   "metadata": {},
   "outputs": [],
   "source": [
    "distances = np.array([4 ,7.8 ,9.3 ,18 ,14.6 ,4.7 ,11.2 ,24.1 ,10.5 ,25.9 ,11.4 ,10.7 ,15.6,16.7])"
   ]
  },
  {
   "cell_type": "code",
   "execution_count": 189,
   "metadata": {},
   "outputs": [
    {
     "data": {
      "text/plain": [
       "36.342904761904755"
      ]
     },
     "execution_count": 189,
     "metadata": {},
     "output_type": "execute_result"
    }
   ],
   "source": [
    "distances.var(ddof=-1)"
   ]
  },
  {
   "cell_type": "code",
   "execution_count": null,
   "metadata": {},
   "outputs": [],
   "source": []
  },
  {
   "cell_type": "code",
   "execution_count": 193,
   "metadata": {},
   "outputs": [
    {
     "data": {
      "text/plain": [
       "0.28734370106957396"
      ]
     },
     "execution_count": 193,
     "metadata": {},
     "output_type": "execute_result"
    }
   ],
   "source": [
    "1 - distances.max()/distances.var(ddof=-1)"
   ]
  },
  {
   "cell_type": "code",
   "execution_count": 150,
   "metadata": {},
   "outputs": [
    {
     "data": {
      "text/plain": [
       "15"
      ]
     },
     "execution_count": 150,
     "metadata": {},
     "output_type": "execute_result"
    }
   ],
   "source": [
    "len(munic[munic.county_name == 'Rock Island'])"
   ]
  },
  {
   "cell_type": "code",
   "execution_count": 170,
   "metadata": {},
   "outputs": [
    {
     "data": {
      "text/plain": [
       "0.3351648351648352"
      ]
     },
     "execution_count": 170,
     "metadata": {},
     "output_type": "execute_result"
    }
   ],
   "source": [
    "weight_counties(500, 2000, 41000, 141000)"
   ]
  },
  {
   "cell_type": "code",
   "execution_count": 13,
   "metadata": {},
   "outputs": [
    {
     "data": {
      "text/html": [
       "<div>\n",
       "<style scoped>\n",
       "    .dataframe tbody tr th:only-of-type {\n",
       "        vertical-align: middle;\n",
       "    }\n",
       "\n",
       "    .dataframe tbody tr th {\n",
       "        vertical-align: top;\n",
       "    }\n",
       "\n",
       "    .dataframe thead th {\n",
       "        text-align: right;\n",
       "    }\n",
       "</style>\n",
       "<table border=\"1\" class=\"dataframe\">\n",
       "  <thead>\n",
       "    <tr style=\"text-align: right;\">\n",
       "      <th></th>\n",
       "      <th>index</th>\n",
       "      <th>address</th>\n",
       "      <th>name</th>\n",
       "      <th>date</th>\n",
       "      <th>municipality</th>\n",
       "      <th>adjusted_gross_receipt</th>\n",
       "      <th>square_feet</th>\n",
       "      <th>admissions</th>\n",
       "      <th>state_share</th>\n",
       "      <th>local_share</th>\n",
       "      <th>latitude</th>\n",
       "      <th>longitude</th>\n",
       "    </tr>\n",
       "  </thead>\n",
       "  <tbody>\n",
       "    <tr>\n",
       "      <th>0</th>\n",
       "      <td>0</td>\n",
       "      <td>1 Piasa St, Alton, IL 62002</td>\n",
       "      <td>ALTON - ARGOSY</td>\n",
       "      <td>2017-05-01</td>\n",
       "      <td>Alton</td>\n",
       "      <td>3480782.0</td>\n",
       "      <td>23000.0</td>\n",
       "      <td>35248.0</td>\n",
       "      <td>418574.0</td>\n",
       "      <td>209287.0</td>\n",
       "      <td>38.889240</td>\n",
       "      <td>-90.186737</td>\n",
       "    </tr>\n",
       "    <tr>\n",
       "      <th>1</th>\n",
       "      <td>1</td>\n",
       "      <td>21 Blackjack Blvd, East Peoria, IL 61611</td>\n",
       "      <td>E. PEORIA - PAR-A-DICE</td>\n",
       "      <td>2017-05-01</td>\n",
       "      <td>East Peoria</td>\n",
       "      <td>6714723.0</td>\n",
       "      <td>26116.0</td>\n",
       "      <td>67449.0</td>\n",
       "      <td>1309974.0</td>\n",
       "      <td>403185.0</td>\n",
       "      <td>40.678239</td>\n",
       "      <td>-89.561869</td>\n",
       "    </tr>\n",
       "    <tr>\n",
       "      <th>2</th>\n",
       "      <td>2</td>\n",
       "      <td>777 Jumer Dr, Rock Island, IL 61201</td>\n",
       "      <td>ROCK ISLAND - JUMERS</td>\n",
       "      <td>2017-05-01</td>\n",
       "      <td>Rock Island</td>\n",
       "      <td>6021952.0</td>\n",
       "      <td>42300.0</td>\n",
       "      <td>80300.0</td>\n",
       "      <td>1029555.0</td>\n",
       "      <td>381398.0</td>\n",
       "      <td>41.459335</td>\n",
       "      <td>-90.616536</td>\n",
       "    </tr>\n",
       "    <tr>\n",
       "      <th>3</th>\n",
       "      <td>3</td>\n",
       "      <td>777 Hollywood Blvd, Joliet, IL 60436</td>\n",
       "      <td>JOLIET - HOLLYWOOD</td>\n",
       "      <td>2017-05-01</td>\n",
       "      <td>Joliet</td>\n",
       "      <td>10938798.0</td>\n",
       "      <td>50000.0</td>\n",
       "      <td>93877.0</td>\n",
       "      <td>2199199.0</td>\n",
       "      <td>640817.0</td>\n",
       "      <td>41.479289</td>\n",
       "      <td>-88.145328</td>\n",
       "    </tr>\n",
       "    <tr>\n",
       "      <th>4</th>\n",
       "      <td>4</td>\n",
       "      <td>100 E Front St, Metropolis, IL 62960</td>\n",
       "      <td>METROPOLIS - HARRAHS</td>\n",
       "      <td>2017-05-01</td>\n",
       "      <td>Metropolis</td>\n",
       "      <td>6561714.0</td>\n",
       "      <td>24269.0</td>\n",
       "      <td>44960.0</td>\n",
       "      <td>1238220.0</td>\n",
       "      <td>373046.0</td>\n",
       "      <td>37.143971</td>\n",
       "      <td>-88.726324</td>\n",
       "    </tr>\n",
       "    <tr>\n",
       "      <th>...</th>\n",
       "      <td>...</td>\n",
       "      <td>...</td>\n",
       "      <td>...</td>\n",
       "      <td>...</td>\n",
       "      <td>...</td>\n",
       "      <td>...</td>\n",
       "      <td>...</td>\n",
       "      <td>...</td>\n",
       "      <td>...</td>\n",
       "      <td>...</td>\n",
       "      <td>...</td>\n",
       "      <td>...</td>\n",
       "    </tr>\n",
       "    <tr>\n",
       "      <th>2347</th>\n",
       "      <td>2347</td>\n",
       "      <td>777 Hollywood Blvd, Joliet, IL 60436</td>\n",
       "      <td>JOLIET - HARRAHS</td>\n",
       "      <td>2015-02-01</td>\n",
       "      <td>Joliet</td>\n",
       "      <td>13888492.0</td>\n",
       "      <td>39000.0</td>\n",
       "      <td>113987.0</td>\n",
       "      <td>1930760.0</td>\n",
       "      <td>808412.0</td>\n",
       "      <td>41.479289</td>\n",
       "      <td>-88.145328</td>\n",
       "    </tr>\n",
       "    <tr>\n",
       "      <th>2348</th>\n",
       "      <td>2348</td>\n",
       "      <td>100 E Front St, Metropolis, IL 62960</td>\n",
       "      <td>AURORA - HOLLYWOOD</td>\n",
       "      <td>2015-02-01</td>\n",
       "      <td>Aurora</td>\n",
       "      <td>9179304.0</td>\n",
       "      <td>41384.0</td>\n",
       "      <td>78830.0</td>\n",
       "      <td>1075590.0</td>\n",
       "      <td>537795.0</td>\n",
       "      <td>37.143971</td>\n",
       "      <td>-88.726324</td>\n",
       "    </tr>\n",
       "    <tr>\n",
       "      <th>2349</th>\n",
       "      <td>2349</td>\n",
       "      <td>200 S Front St, East St Louis, IL 62201</td>\n",
       "      <td>E. ST. LOUIS - CASINO QUEEN</td>\n",
       "      <td>2015-02-01</td>\n",
       "      <td>East St. Louis</td>\n",
       "      <td>8590246.0</td>\n",
       "      <td>40000.0</td>\n",
       "      <td>96737.0</td>\n",
       "      <td>1052499.0</td>\n",
       "      <td>526249.0</td>\n",
       "      <td>38.627501</td>\n",
       "      <td>-90.175079</td>\n",
       "    </tr>\n",
       "    <tr>\n",
       "      <th>2350</th>\n",
       "      <td>2350</td>\n",
       "      <td>250 S Grove Ave, Elgin, IL 60120</td>\n",
       "      <td>ELGIN - GRAND VICTORIA</td>\n",
       "      <td>2015-02-01</td>\n",
       "      <td>Elgin</td>\n",
       "      <td>13564216.0</td>\n",
       "      <td>29850.0</td>\n",
       "      <td>104157.0</td>\n",
       "      <td>1707143.0</td>\n",
       "      <td>782368.0</td>\n",
       "      <td>42.031316</td>\n",
       "      <td>-88.279651</td>\n",
       "    </tr>\n",
       "    <tr>\n",
       "      <th>2351</th>\n",
       "      <td>2351</td>\n",
       "      <td>3000 S River Rd, Des Plaines, IL 60018</td>\n",
       "      <td>DES PLAINES - RIVERS CASINO</td>\n",
       "      <td>2015-02-01</td>\n",
       "      <td>Des Plaines</td>\n",
       "      <td>31037072.0</td>\n",
       "      <td>43687.0</td>\n",
       "      <td>249398.0</td>\n",
       "      <td>6674262.0</td>\n",
       "      <td>1801252.0</td>\n",
       "      <td>41.997795</td>\n",
       "      <td>-87.862829</td>\n",
       "    </tr>\n",
       "  </tbody>\n",
       "</table>\n",
       "<p>2352 rows × 12 columns</p>\n",
       "</div>"
      ],
      "text/plain": [
       "      index                                   address  \\\n",
       "0         0               1 Piasa St, Alton, IL 62002   \n",
       "1         1  21 Blackjack Blvd, East Peoria, IL 61611   \n",
       "2         2       777 Jumer Dr, Rock Island, IL 61201   \n",
       "3         3      777 Hollywood Blvd, Joliet, IL 60436   \n",
       "4         4      100 E Front St, Metropolis, IL 62960   \n",
       "...     ...                                       ...   \n",
       "2347   2347      777 Hollywood Blvd, Joliet, IL 60436   \n",
       "2348   2348      100 E Front St, Metropolis, IL 62960   \n",
       "2349   2349   200 S Front St, East St Louis, IL 62201   \n",
       "2350   2350          250 S Grove Ave, Elgin, IL 60120   \n",
       "2351   2351    3000 S River Rd, Des Plaines, IL 60018   \n",
       "\n",
       "                             name       date    municipality  \\\n",
       "0                  ALTON - ARGOSY 2017-05-01           Alton   \n",
       "1          E. PEORIA - PAR-A-DICE 2017-05-01     East Peoria   \n",
       "2            ROCK ISLAND - JUMERS 2017-05-01     Rock Island   \n",
       "3              JOLIET - HOLLYWOOD 2017-05-01          Joliet   \n",
       "4            METROPOLIS - HARRAHS 2017-05-01      Metropolis   \n",
       "...                           ...        ...             ...   \n",
       "2347             JOLIET - HARRAHS 2015-02-01          Joliet   \n",
       "2348           AURORA - HOLLYWOOD 2015-02-01          Aurora   \n",
       "2349  E. ST. LOUIS - CASINO QUEEN 2015-02-01  East St. Louis   \n",
       "2350       ELGIN - GRAND VICTORIA 2015-02-01           Elgin   \n",
       "2351  DES PLAINES - RIVERS CASINO 2015-02-01     Des Plaines   \n",
       "\n",
       "      adjusted_gross_receipt  square_feet  admissions  state_share  \\\n",
       "0                  3480782.0      23000.0     35248.0     418574.0   \n",
       "1                  6714723.0      26116.0     67449.0    1309974.0   \n",
       "2                  6021952.0      42300.0     80300.0    1029555.0   \n",
       "3                 10938798.0      50000.0     93877.0    2199199.0   \n",
       "4                  6561714.0      24269.0     44960.0    1238220.0   \n",
       "...                      ...          ...         ...          ...   \n",
       "2347              13888492.0      39000.0    113987.0    1930760.0   \n",
       "2348               9179304.0      41384.0     78830.0    1075590.0   \n",
       "2349               8590246.0      40000.0     96737.0    1052499.0   \n",
       "2350              13564216.0      29850.0    104157.0    1707143.0   \n",
       "2351              31037072.0      43687.0    249398.0    6674262.0   \n",
       "\n",
       "      local_share   latitude  longitude  \n",
       "0        209287.0  38.889240 -90.186737  \n",
       "1        403185.0  40.678239 -89.561869  \n",
       "2        381398.0  41.459335 -90.616536  \n",
       "3        640817.0  41.479289 -88.145328  \n",
       "4        373046.0  37.143971 -88.726324  \n",
       "...           ...        ...        ...  \n",
       "2347     808412.0  41.479289 -88.145328  \n",
       "2348     537795.0  37.143971 -88.726324  \n",
       "2349     526249.0  38.627501 -90.175079  \n",
       "2350     782368.0  42.031316 -88.279651  \n",
       "2351    1801252.0  41.997795 -87.862829  \n",
       "\n",
       "[2352 rows x 12 columns]"
      ]
     },
     "execution_count": 13,
     "metadata": {},
     "output_type": "execute_result"
    }
   ],
   "source": [
    "pd.read_sql('''select * from casino''', engine)"
   ]
  },
  {
   "cell_type": "code",
   "execution_count": 11,
   "metadata": {
    "ExecuteTime": {
     "end_time": "2021-02-02T00:03:59.110157Z",
     "start_time": "2021-02-02T00:03:59.087964Z"
    }
   },
   "outputs": [
    {
     "data": {
      "text/html": [
       "<div>\n",
       "<style scoped>\n",
       "    .dataframe tbody tr th:only-of-type {\n",
       "        vertical-align: middle;\n",
       "    }\n",
       "\n",
       "    .dataframe tbody tr th {\n",
       "        vertical-align: top;\n",
       "    }\n",
       "\n",
       "    .dataframe thead th {\n",
       "        text-align: right;\n",
       "    }\n",
       "</style>\n",
       "<table border=\"1\" class=\"dataframe\">\n",
       "  <thead>\n",
       "    <tr style=\"text-align: right;\">\n",
       "      <th></th>\n",
       "      <th>name</th>\n",
       "      <th>geo_id</th>\n",
       "      <th>nearest_casino</th>\n",
       "      <th>latitude</th>\n",
       "      <th>longitude</th>\n",
       "      <th>boundingbox</th>\n",
       "      <th>county_fips</th>\n",
       "      <th>county_name</th>\n",
       "    </tr>\n",
       "  </thead>\n",
       "  <tbody>\n",
       "    <tr>\n",
       "      <th>230</th>\n",
       "      <td>Kewanee</td>\n",
       "      <td>16000US1739727</td>\n",
       "      <td>777 Jumer Dr, Rock Island, IL 61201</td>\n",
       "      <td>41.2455927</td>\n",
       "      <td>-89.9248303</td>\n",
       "      <td>(41.214814,41.261416,-89.964774,-89.887008)</td>\n",
       "      <td>17073</td>\n",
       "      <td>Henry</td>\n",
       "    </tr>\n",
       "    <tr>\n",
       "      <th>231</th>\n",
       "      <td>Colona</td>\n",
       "      <td>16000US1715664</td>\n",
       "      <td>777 Jumer Dr, Rock Island, IL 61201</td>\n",
       "      <td>41.4754634</td>\n",
       "      <td>-90.3603496</td>\n",
       "      <td>(41.440966,41.491032,-90.39295,-90.319456)</td>\n",
       "      <td>17073</td>\n",
       "      <td>Henry</td>\n",
       "    </tr>\n",
       "    <tr>\n",
       "      <th>245</th>\n",
       "      <td>Annawan</td>\n",
       "      <td>16000US1701569</td>\n",
       "      <td>777 Jumer Dr, Rock Island, IL 61201</td>\n",
       "      <td>41.3972573</td>\n",
       "      <td>-89.9045518</td>\n",
       "      <td>(41.385084,41.410423,-89.914735,-89.848101)</td>\n",
       "      <td>17073</td>\n",
       "      <td>Henry</td>\n",
       "    </tr>\n",
       "    <tr>\n",
       "      <th>280</th>\n",
       "      <td>Orion</td>\n",
       "      <td>16000US1756601</td>\n",
       "      <td>777 Jumer Dr, Rock Island, IL 61201</td>\n",
       "      <td>41.3532038</td>\n",
       "      <td>-90.3808307</td>\n",
       "      <td>(41.340996,41.362015,-90.391205,-90.358339)</td>\n",
       "      <td>17073</td>\n",
       "      <td>Henry</td>\n",
       "    </tr>\n",
       "    <tr>\n",
       "      <th>376</th>\n",
       "      <td>Henry</td>\n",
       "      <td>16000US1734163</td>\n",
       "      <td>777 Jumer Dr, Rock Island, IL 61201</td>\n",
       "      <td>41.3418549</td>\n",
       "      <td>-90.1177442</td>\n",
       "      <td>(41.1494595,41.58625,-90.4396477,-89.855469)</td>\n",
       "      <td>17073</td>\n",
       "      <td>Henry</td>\n",
       "    </tr>\n",
       "    <tr>\n",
       "      <th>491</th>\n",
       "      <td>Galva</td>\n",
       "      <td>16000US1728430</td>\n",
       "      <td>777 Jumer Dr, Rock Island, IL 61201</td>\n",
       "      <td>41.1675369</td>\n",
       "      <td>-90.0426137</td>\n",
       "      <td>(41.156806,41.18611,-90.061104,-90.013182)</td>\n",
       "      <td>17073</td>\n",
       "      <td>Henry</td>\n",
       "    </tr>\n",
       "    <tr>\n",
       "      <th>563</th>\n",
       "      <td>Cambridge</td>\n",
       "      <td>16000US1710643</td>\n",
       "      <td>777 Jumer Dr, Rock Island, IL 61201</td>\n",
       "      <td>41.3036472</td>\n",
       "      <td>-90.1928971</td>\n",
       "      <td>(41.283113,41.31057,-90.208286,-90.17507)</td>\n",
       "      <td>17073</td>\n",
       "      <td>Henry</td>\n",
       "    </tr>\n",
       "    <tr>\n",
       "      <th>643</th>\n",
       "      <td>Atkinson</td>\n",
       "      <td>16000US1702726</td>\n",
       "      <td>777 Jumer Dr, Rock Island, IL 61201</td>\n",
       "      <td>41.4208678</td>\n",
       "      <td>-90.0151121</td>\n",
       "      <td>(41.405274,41.435366,-90.025076,-89.974396)</td>\n",
       "      <td>17073</td>\n",
       "      <td>Henry</td>\n",
       "    </tr>\n",
       "    <tr>\n",
       "      <th>669</th>\n",
       "      <td>Bishop Hill</td>\n",
       "      <td>16000US1706171</td>\n",
       "      <td>777 Jumer Dr, Rock Island, IL 61201</td>\n",
       "      <td>41.2017036</td>\n",
       "      <td>-90.1190054</td>\n",
       "      <td>(41.194189,41.205133,-90.124744,-90.110208)</td>\n",
       "      <td>17073</td>\n",
       "      <td>Henry</td>\n",
       "    </tr>\n",
       "    <tr>\n",
       "      <th>703</th>\n",
       "      <td>Woodhull</td>\n",
       "      <td>16000US1783063</td>\n",
       "      <td>777 Jumer Dr, Rock Island, IL 61201</td>\n",
       "      <td>41.1789256</td>\n",
       "      <td>-90.3159582</td>\n",
       "      <td>(41.172976,41.184748,-90.341817,-90.30587)</td>\n",
       "      <td>17073</td>\n",
       "      <td>Henry</td>\n",
       "    </tr>\n",
       "    <tr>\n",
       "      <th>912</th>\n",
       "      <td>Andover</td>\n",
       "      <td>16000US1701491</td>\n",
       "      <td>777 Jumer Dr, Rock Island, IL 61201</td>\n",
       "      <td>41.2939249</td>\n",
       "      <td>-90.2920678</td>\n",
       "      <td>(41.287525,41.302398,-90.300411,-90.28116)</td>\n",
       "      <td>17073</td>\n",
       "      <td>Henry</td>\n",
       "    </tr>\n",
       "    <tr>\n",
       "      <th>955</th>\n",
       "      <td>Alpha</td>\n",
       "      <td>16000US1700971</td>\n",
       "      <td>777 Jumer Dr, Rock Island, IL 61201</td>\n",
       "      <td>41.1917031</td>\n",
       "      <td>-90.3801274</td>\n",
       "      <td>(41.184759,41.201216,-90.386252,-90.375128)</td>\n",
       "      <td>17073</td>\n",
       "      <td>Henry</td>\n",
       "    </tr>\n",
       "    <tr>\n",
       "      <th>1029</th>\n",
       "      <td>Cleveland</td>\n",
       "      <td>16000US1714923</td>\n",
       "      <td>777 Jumer Dr, Rock Island, IL 61201</td>\n",
       "      <td>41.5061454</td>\n",
       "      <td>-90.3148479</td>\n",
       "      <td>(41.498124,41.509639,-90.32466,-90.30913)</td>\n",
       "      <td>17073</td>\n",
       "      <td>Henry</td>\n",
       "    </tr>\n",
       "    <tr>\n",
       "      <th>1081</th>\n",
       "      <td>Geneseo</td>\n",
       "      <td>16000US1728846</td>\n",
       "      <td>777 Jumer Dr, Rock Island, IL 61201</td>\n",
       "      <td>41.4525214</td>\n",
       "      <td>-90.1548426</td>\n",
       "      <td>(41.425603,41.481393,-90.177463,-90.124794)</td>\n",
       "      <td>17073</td>\n",
       "      <td>Henry</td>\n",
       "    </tr>\n",
       "    <tr>\n",
       "      <th>1112</th>\n",
       "      <td>Hooppole</td>\n",
       "      <td>16000US1736074</td>\n",
       "      <td>777 Jumer Dr, Rock Island, IL 61201</td>\n",
       "      <td>41.5222555</td>\n",
       "      <td>-89.9098306</td>\n",
       "      <td>(41.518218,41.525473,-89.921286,-89.906655)</td>\n",
       "      <td>17073</td>\n",
       "      <td>Henry</td>\n",
       "    </tr>\n",
       "  </tbody>\n",
       "</table>\n",
       "</div>"
      ],
      "text/plain": [
       "             name          geo_id                       nearest_casino  \\\n",
       "230       Kewanee  16000US1739727  777 Jumer Dr, Rock Island, IL 61201   \n",
       "231        Colona  16000US1715664  777 Jumer Dr, Rock Island, IL 61201   \n",
       "245       Annawan  16000US1701569  777 Jumer Dr, Rock Island, IL 61201   \n",
       "280         Orion  16000US1756601  777 Jumer Dr, Rock Island, IL 61201   \n",
       "376         Henry  16000US1734163  777 Jumer Dr, Rock Island, IL 61201   \n",
       "491         Galva  16000US1728430  777 Jumer Dr, Rock Island, IL 61201   \n",
       "563     Cambridge  16000US1710643  777 Jumer Dr, Rock Island, IL 61201   \n",
       "643      Atkinson  16000US1702726  777 Jumer Dr, Rock Island, IL 61201   \n",
       "669   Bishop Hill  16000US1706171  777 Jumer Dr, Rock Island, IL 61201   \n",
       "703      Woodhull  16000US1783063  777 Jumer Dr, Rock Island, IL 61201   \n",
       "912       Andover  16000US1701491  777 Jumer Dr, Rock Island, IL 61201   \n",
       "955         Alpha  16000US1700971  777 Jumer Dr, Rock Island, IL 61201   \n",
       "1029    Cleveland  16000US1714923  777 Jumer Dr, Rock Island, IL 61201   \n",
       "1081      Geneseo  16000US1728846  777 Jumer Dr, Rock Island, IL 61201   \n",
       "1112     Hooppole  16000US1736074  777 Jumer Dr, Rock Island, IL 61201   \n",
       "\n",
       "        latitude    longitude                                   boundingbox  \\\n",
       "230   41.2455927  -89.9248303   (41.214814,41.261416,-89.964774,-89.887008)   \n",
       "231   41.4754634  -90.3603496    (41.440966,41.491032,-90.39295,-90.319456)   \n",
       "245   41.3972573  -89.9045518   (41.385084,41.410423,-89.914735,-89.848101)   \n",
       "280   41.3532038  -90.3808307   (41.340996,41.362015,-90.391205,-90.358339)   \n",
       "376   41.3418549  -90.1177442  (41.1494595,41.58625,-90.4396477,-89.855469)   \n",
       "491   41.1675369  -90.0426137    (41.156806,41.18611,-90.061104,-90.013182)   \n",
       "563   41.3036472  -90.1928971     (41.283113,41.31057,-90.208286,-90.17507)   \n",
       "643   41.4208678  -90.0151121   (41.405274,41.435366,-90.025076,-89.974396)   \n",
       "669   41.2017036  -90.1190054   (41.194189,41.205133,-90.124744,-90.110208)   \n",
       "703   41.1789256  -90.3159582    (41.172976,41.184748,-90.341817,-90.30587)   \n",
       "912   41.2939249  -90.2920678    (41.287525,41.302398,-90.300411,-90.28116)   \n",
       "955   41.1917031  -90.3801274   (41.184759,41.201216,-90.386252,-90.375128)   \n",
       "1029  41.5061454  -90.3148479     (41.498124,41.509639,-90.32466,-90.30913)   \n",
       "1081  41.4525214  -90.1548426   (41.425603,41.481393,-90.177463,-90.124794)   \n",
       "1112  41.5222555  -89.9098306   (41.518218,41.525473,-89.921286,-89.906655)   \n",
       "\n",
       "     county_fips county_name  \n",
       "230        17073       Henry  \n",
       "231        17073       Henry  \n",
       "245        17073       Henry  \n",
       "280        17073       Henry  \n",
       "376        17073       Henry  \n",
       "491        17073       Henry  \n",
       "563        17073       Henry  \n",
       "643        17073       Henry  \n",
       "669        17073       Henry  \n",
       "703        17073       Henry  \n",
       "912        17073       Henry  \n",
       "955        17073       Henry  \n",
       "1029       17073       Henry  \n",
       "1081       17073       Henry  \n",
       "1112       17073       Henry  "
      ]
     },
     "execution_count": 11,
     "metadata": {},
     "output_type": "execute_result"
    }
   ],
   "source": [
    "munic[munic.county_fips=='17073']"
   ]
  },
  {
   "cell_type": "markdown",
   "metadata": {},
   "source": [
    "# Census Data"
   ]
  },
  {
   "cell_type": "code",
   "execution_count": 21,
   "metadata": {
    "ExecuteTime": {
     "end_time": "2021-02-02T00:05:52.562678Z",
     "start_time": "2021-02-02T00:05:52.556532Z"
    }
   },
   "outputs": [],
   "source": [
    "variables_path = os.path.join(os.pardir,'data', 'census_variables.json')\n",
    "with open(variables_path, 'r') as file:\n",
    "    variables = json.load(file)"
   ]
  },
  {
   "cell_type": "markdown",
   "metadata": {},
   "source": [
    "### Add variable lookup table"
   ]
  },
  {
   "cell_type": "code",
   "execution_count": 22,
   "metadata": {
    "ExecuteTime": {
     "end_time": "2021-02-02T00:05:54.514139Z",
     "start_time": "2021-02-02T00:05:54.440248Z"
    }
   },
   "outputs": [],
   "source": [
    "lookup = pd.DataFrame(variables, index=[0]).T.reset_index()\n",
    "lookup.columns = ['variable', 'description']\n",
    "lookup['variable'] = lookup.variable.apply(lambda x: x.upper())\n",
    "\n",
    "lookup.to_sql('demographics_lookup', engine, if_exists='replace')\n",
    "\n"
   ]
  },
  {
   "cell_type": "markdown",
   "metadata": {},
   "source": [
    "### Create Demographics Table"
   ]
  },
  {
   "cell_type": "code",
   "execution_count": 23,
   "metadata": {
    "ExecuteTime": {
     "end_time": "2021-02-02T02:23:28.052026Z",
     "start_time": "2021-02-02T00:06:05.234775Z"
    }
   },
   "outputs": [
    {
     "data": {
      "application/vnd.jupyter.widget-view+json": {
       "model_id": "8658a42492044220b661409fc2db4620",
       "version_major": 2,
       "version_minor": 0
      },
      "text/plain": [
       "HBox(children=(FloatProgress(value=0.0, description='2012', max=1298.0, style=ProgressStyle(description_width=…"
      ]
     },
     "metadata": {},
     "output_type": "display_data"
    },
    {
     "name": "stdout",
     "output_type": "stream",
     "text": [
      "\n"
     ]
    },
    {
     "data": {
      "application/vnd.jupyter.widget-view+json": {
       "model_id": "39c57513ee3d4175ad4dceac17aacab6",
       "version_major": 2,
       "version_minor": 0
      },
      "text/plain": [
       "HBox(children=(FloatProgress(value=0.0, description='2013', max=1298.0, style=ProgressStyle(description_width=…"
      ]
     },
     "metadata": {},
     "output_type": "display_data"
    },
    {
     "name": "stdout",
     "output_type": "stream",
     "text": [
      "\n"
     ]
    },
    {
     "data": {
      "application/vnd.jupyter.widget-view+json": {
       "model_id": "c8793a1abf614b68b9e5402538f58b24",
       "version_major": 2,
       "version_minor": 0
      },
      "text/plain": [
       "HBox(children=(FloatProgress(value=0.0, description='2014', max=1298.0, style=ProgressStyle(description_width=…"
      ]
     },
     "metadata": {},
     "output_type": "display_data"
    },
    {
     "name": "stdout",
     "output_type": "stream",
     "text": [
      "\n"
     ]
    },
    {
     "data": {
      "application/vnd.jupyter.widget-view+json": {
       "model_id": "53314cfcaafa4376b0dbfa077133f958",
       "version_major": 2,
       "version_minor": 0
      },
      "text/plain": [
       "HBox(children=(FloatProgress(value=0.0, description='2015', max=1298.0, style=ProgressStyle(description_width=…"
      ]
     },
     "metadata": {},
     "output_type": "display_data"
    },
    {
     "name": "stdout",
     "output_type": "stream",
     "text": [
      "\n"
     ]
    },
    {
     "data": {
      "application/vnd.jupyter.widget-view+json": {
       "model_id": "d3e62c508c924b42aebd621f90145b7a",
       "version_major": 2,
       "version_minor": 0
      },
      "text/plain": [
       "HBox(children=(FloatProgress(value=0.0, description='2016', max=1298.0, style=ProgressStyle(description_width=…"
      ]
     },
     "metadata": {},
     "output_type": "display_data"
    },
    {
     "name": "stdout",
     "output_type": "stream",
     "text": [
      "\n"
     ]
    },
    {
     "data": {
      "application/vnd.jupyter.widget-view+json": {
       "model_id": "b7645129da6e4873882ec97f62c813fd",
       "version_major": 2,
       "version_minor": 0
      },
      "text/plain": [
       "HBox(children=(FloatProgress(value=0.0, description='2017', max=1298.0, style=ProgressStyle(description_width=…"
      ]
     },
     "metadata": {},
     "output_type": "display_data"
    },
    {
     "name": "stdout",
     "output_type": "stream",
     "text": [
      "\n"
     ]
    },
    {
     "data": {
      "application/vnd.jupyter.widget-view+json": {
       "model_id": "1c8339c240614fe5a63960de2fc22964",
       "version_major": 2,
       "version_minor": 0
      },
      "text/plain": [
       "HBox(children=(FloatProgress(value=0.0, description='2018', max=1298.0, style=ProgressStyle(description_width=…"
      ]
     },
     "metadata": {},
     "output_type": "display_data"
    },
    {
     "name": "stdout",
     "output_type": "stream",
     "text": [
      "\n"
     ]
    }
   ],
   "source": [
    "variable_names = list(variables)\n",
    "variable_names.reverse()\n",
    "count = 0\n",
    "errors = {}\n",
    "data = pd.DataFrame()\n",
    "for year in range(2012, 2019):\n",
    "    with tqdm(total=len(census_ids)-1, desc=str(year)) as pbar:\n",
    "        for idx in range(len(census_ids)):\n",
    "            town = list(census_ids)[idx]\n",
    "            try:\n",
    "                id_ = census_ids[town][-5:]\n",
    "                if id_ == '67158':\n",
    "                    continue\n",
    "                geo = censusdata.censusgeo([('state', '17'), ('place', id_)])\n",
    "                frame = censusdata.download('acs5', year, geo, variable_names, key='ef2b118b032f366e377ba482a7e9cdbc8cbfd617')\n",
    "                frame['geo_id'] = census_ids[town]\n",
    "                frame['municipality'] = town\n",
    "                frame['year'] = year\n",
    "                frame = frame[['geo_id','municipality', 'year'] + variable_names]\n",
    "                frame.index = [count]\n",
    "                data = data.append(frame)\n",
    "                count +=1 \n",
    "                pbar.update(1)\n",
    "            except:\n",
    "                pbar.write(f'Error thrown for year {year}')\n",
    "                pbar.update(1)\n",
    "                continue"
   ]
  },
  {
   "cell_type": "code",
   "execution_count": 26,
   "metadata": {
    "ExecuteTime": {
     "end_time": "2021-02-02T02:26:40.252146Z",
     "start_time": "2021-02-02T02:26:37.111151Z"
    }
   },
   "outputs": [
    {
     "name": "stdout",
     "output_type": "stream",
     "text": [
      "Database created successfully!\n"
     ]
    }
   ],
   "source": [
    "data.to_sql('demographics', engine, if_exists='replace')\n",
    "\n",
    "print('Database created successfully!')"
   ]
  },
  {
   "cell_type": "code",
   "execution_count": 30,
   "metadata": {
    "ExecuteTime": {
     "end_time": "2021-02-02T13:09:26.890816Z",
     "start_time": "2021-02-02T13:09:26.787879Z"
    }
   },
   "outputs": [],
   "source": [
    "cursor = conn.cursor()\n",
    "cursor.execute(\"UPDATE municipality SET latitude = 40.8131 WHERE name = 'Gulfport';\")\n",
    "cursor.execute(\"UPDATE municipality SET longitude = -91.0865 WHERE name = 'Gulfport';\")"
   ]
  },
  {
   "cell_type": "code",
   "execution_count": 31,
   "metadata": {
    "ExecuteTime": {
     "end_time": "2021-02-02T13:10:53.525644Z",
     "start_time": "2021-02-02T13:10:53.511748Z"
    }
   },
   "outputs": [],
   "source": [
    "conn.commit()"
   ]
  },
  {
   "cell_type": "code",
   "execution_count": null,
   "metadata": {},
   "outputs": [],
   "source": []
  }
 ],
 "metadata": {
  "kernelspec": {
   "display_name": "Python 3",
   "language": "python",
   "name": "python3"
  },
  "language_info": {
   "codemirror_mode": {
    "name": "ipython",
    "version": 3
   },
   "file_extension": ".py",
   "mimetype": "text/x-python",
   "name": "python",
   "nbconvert_exporter": "python",
   "pygments_lexer": "ipython3",
   "version": "3.7.7"
  },
  "toc": {
   "base_numbering": 1,
   "nav_menu": {},
   "number_sections": false,
   "sideBar": true,
   "skip_h1_title": true,
   "title_cell": "Table of Contents",
   "title_sidebar": "Contents",
   "toc_cell": false,
   "toc_position": {},
   "toc_section_display": true,
   "toc_window_display": false
  },
  "varInspector": {
   "cols": {
    "lenName": 16,
    "lenType": 16,
    "lenVar": 40
   },
   "kernels_config": {
    "python": {
     "delete_cmd_postfix": "",
     "delete_cmd_prefix": "del ",
     "library": "var_list.py",
     "varRefreshCmd": "print(var_dic_list())"
    },
    "r": {
     "delete_cmd_postfix": ") ",
     "delete_cmd_prefix": "rm(",
     "library": "var_list.r",
     "varRefreshCmd": "cat(var_dic_list()) "
    }
   },
   "types_to_exclude": [
    "module",
    "function",
    "builtin_function_or_method",
    "instance",
    "_Feature"
   ],
   "window_display": false
  }
 },
 "nbformat": 4,
 "nbformat_minor": 4
}
